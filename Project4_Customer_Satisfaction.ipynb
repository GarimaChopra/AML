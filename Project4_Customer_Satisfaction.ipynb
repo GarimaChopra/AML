{
  "nbformat": 4,
  "nbformat_minor": 0,
  "metadata": {
    "colab": {
      "name": "Project4_Customer_Satisfaction.ipynb",
      "provenance": [],
      "authorship_tag": "ABX9TyPnucXiQisrRJ+jIOyPzq+t",
      "include_colab_link": true
    },
    "kernelspec": {
      "name": "python3",
      "display_name": "Python 3"
    },
    "language_info": {
      "name": "python"
    }
  },
  "cells": [
    {
      "cell_type": "markdown",
      "metadata": {
        "id": "view-in-github",
        "colab_type": "text"
      },
      "source": [
        "<a href=\"https://colab.research.google.com/github/GarimaChopra/AML/blob/main/Project4_Customer_Satisfaction.ipynb\" target=\"_parent\"><img src=\"https://colab.research.google.com/assets/colab-badge.svg\" alt=\"Open In Colab\"/></a>"
      ]
    },
    {
      "cell_type": "markdown",
      "metadata": {
        "id": "Vk8o-zUFokxq"
      },
      "source": [
        "**Customer Satisfaction dataset**,  the training/testing sets include data about customers that are grouped into 4 segments (classes A, B, C, D)  based on a number of categoric and numeric attributes such as gender, age, profession, work experience, etc. "
      ]
    },
    {
      "cell_type": "code",
      "metadata": {
        "id": "vw-vM8YpoNaM"
      },
      "source": [
        "# Using Pandas for importing data from file \n",
        "import pandas as pd\n",
        "\n",
        "# Import matplotlib and seaborn libraries to visualize the data\n",
        "import matplotlib.pyplot as plt \n",
        "import seaborn as sns\n",
        "\n",
        "# Using numpy for to operate on multidimentional arrays.\n",
        "import numpy as np"
      ],
      "execution_count": 399,
      "outputs": []
    },
    {
      "cell_type": "code",
      "metadata": {
        "colab": {
          "base_uri": "https://localhost:8080/"
        },
        "id": "4KROumlPpUMT",
        "outputId": "b83886a1-2e6c-4805-c658-9fb685b9c441"
      },
      "source": [
        "# Read raw file from github into a dataframe\n",
        "\n",
        "df_train= pd.read_csv('https://raw.githubusercontent.com/GarimaChopra/AML/main/CS_Train.csv')\n",
        "df_test=pd.read_csv('https://raw.githubusercontent.com/GarimaChopra/AML/main/CS_Test.csv')\n",
        "\n",
        "#verify if data is loaded\n",
        "print(df_train.shape,df_test.shape)"
      ],
      "execution_count": 400,
      "outputs": [
        {
          "output_type": "stream",
          "text": [
            "(8068, 11) (2627, 11)\n"
          ],
          "name": "stdout"
        }
      ]
    },
    {
      "cell_type": "code",
      "metadata": {
        "colab": {
          "base_uri": "https://localhost:8080/",
          "height": 204
        },
        "id": "3Hp6UNbIqq_h",
        "outputId": "491637ff-ae4f-49f8-8a8a-8bdfcf6825d6"
      },
      "source": [
        "# view dataset\n",
        "df_train.head()"
      ],
      "execution_count": 401,
      "outputs": [
        {
          "output_type": "execute_result",
          "data": {
            "text/html": [
              "<div>\n",
              "<style scoped>\n",
              "    .dataframe tbody tr th:only-of-type {\n",
              "        vertical-align: middle;\n",
              "    }\n",
              "\n",
              "    .dataframe tbody tr th {\n",
              "        vertical-align: top;\n",
              "    }\n",
              "\n",
              "    .dataframe thead th {\n",
              "        text-align: right;\n",
              "    }\n",
              "</style>\n",
              "<table border=\"1\" class=\"dataframe\">\n",
              "  <thead>\n",
              "    <tr style=\"text-align: right;\">\n",
              "      <th></th>\n",
              "      <th>ID</th>\n",
              "      <th>Gender</th>\n",
              "      <th>Ever_Married</th>\n",
              "      <th>Age</th>\n",
              "      <th>Graduated</th>\n",
              "      <th>Profession</th>\n",
              "      <th>Work_Experience</th>\n",
              "      <th>Spending_Score</th>\n",
              "      <th>Family_Size</th>\n",
              "      <th>Var_1</th>\n",
              "      <th>Segmentation</th>\n",
              "    </tr>\n",
              "  </thead>\n",
              "  <tbody>\n",
              "    <tr>\n",
              "      <th>0</th>\n",
              "      <td>462809</td>\n",
              "      <td>Male</td>\n",
              "      <td>No</td>\n",
              "      <td>22</td>\n",
              "      <td>No</td>\n",
              "      <td>Healthcare</td>\n",
              "      <td>1.0</td>\n",
              "      <td>Low</td>\n",
              "      <td>4.0</td>\n",
              "      <td>Cat_4</td>\n",
              "      <td>D</td>\n",
              "    </tr>\n",
              "    <tr>\n",
              "      <th>1</th>\n",
              "      <td>462643</td>\n",
              "      <td>Female</td>\n",
              "      <td>Yes</td>\n",
              "      <td>38</td>\n",
              "      <td>Yes</td>\n",
              "      <td>Engineer</td>\n",
              "      <td>NaN</td>\n",
              "      <td>Average</td>\n",
              "      <td>3.0</td>\n",
              "      <td>Cat_4</td>\n",
              "      <td>A</td>\n",
              "    </tr>\n",
              "    <tr>\n",
              "      <th>2</th>\n",
              "      <td>466315</td>\n",
              "      <td>Female</td>\n",
              "      <td>Yes</td>\n",
              "      <td>67</td>\n",
              "      <td>Yes</td>\n",
              "      <td>Engineer</td>\n",
              "      <td>1.0</td>\n",
              "      <td>Low</td>\n",
              "      <td>1.0</td>\n",
              "      <td>Cat_6</td>\n",
              "      <td>B</td>\n",
              "    </tr>\n",
              "    <tr>\n",
              "      <th>3</th>\n",
              "      <td>461735</td>\n",
              "      <td>Male</td>\n",
              "      <td>Yes</td>\n",
              "      <td>67</td>\n",
              "      <td>Yes</td>\n",
              "      <td>Lawyer</td>\n",
              "      <td>0.0</td>\n",
              "      <td>High</td>\n",
              "      <td>2.0</td>\n",
              "      <td>Cat_6</td>\n",
              "      <td>B</td>\n",
              "    </tr>\n",
              "    <tr>\n",
              "      <th>4</th>\n",
              "      <td>462669</td>\n",
              "      <td>Female</td>\n",
              "      <td>Yes</td>\n",
              "      <td>40</td>\n",
              "      <td>Yes</td>\n",
              "      <td>Entertainment</td>\n",
              "      <td>NaN</td>\n",
              "      <td>High</td>\n",
              "      <td>6.0</td>\n",
              "      <td>Cat_6</td>\n",
              "      <td>A</td>\n",
              "    </tr>\n",
              "  </tbody>\n",
              "</table>\n",
              "</div>"
            ],
            "text/plain": [
              "       ID  Gender Ever_Married  ...  Family_Size  Var_1 Segmentation\n",
              "0  462809    Male           No  ...          4.0  Cat_4            D\n",
              "1  462643  Female          Yes  ...          3.0  Cat_4            A\n",
              "2  466315  Female          Yes  ...          1.0  Cat_6            B\n",
              "3  461735    Male          Yes  ...          2.0  Cat_6            B\n",
              "4  462669  Female          Yes  ...          6.0  Cat_6            A\n",
              "\n",
              "[5 rows x 11 columns]"
            ]
          },
          "metadata": {
            "tags": []
          },
          "execution_count": 401
        }
      ]
    },
    {
      "cell_type": "code",
      "metadata": {
        "colab": {
          "base_uri": "https://localhost:8080/"
        },
        "id": "BL1dbPEgqhgi",
        "outputId": "56fb055c-22f7-4b24-d520-642babc88acf"
      },
      "source": [
        "#summarize the data set\n",
        "df_train.info()"
      ],
      "execution_count": 402,
      "outputs": [
        {
          "output_type": "stream",
          "text": [
            "<class 'pandas.core.frame.DataFrame'>\n",
            "RangeIndex: 8068 entries, 0 to 8067\n",
            "Data columns (total 11 columns):\n",
            " #   Column           Non-Null Count  Dtype  \n",
            "---  ------           --------------  -----  \n",
            " 0   ID               8068 non-null   int64  \n",
            " 1   Gender           8068 non-null   object \n",
            " 2   Ever_Married     7928 non-null   object \n",
            " 3   Age              8068 non-null   int64  \n",
            " 4   Graduated        7990 non-null   object \n",
            " 5   Profession       7944 non-null   object \n",
            " 6   Work_Experience  7239 non-null   float64\n",
            " 7   Spending_Score   8068 non-null   object \n",
            " 8   Family_Size      7733 non-null   float64\n",
            " 9   Var_1            7992 non-null   object \n",
            " 10  Segmentation     8068 non-null   object \n",
            "dtypes: float64(2), int64(2), object(7)\n",
            "memory usage: 693.5+ KB\n"
          ],
          "name": "stdout"
        }
      ]
    },
    {
      "cell_type": "markdown",
      "metadata": {
        "id": "S5lWDVUAubEa"
      },
      "source": [
        "**Problem Statement:** \n",
        "\n",
        "1)Perform a preliminary analysis on the dataset to determine which attributes have the highest correlation with the target variable. Use graphs to visualize the results.\n",
        "\n",
        "2)Create pipelines to handle missing data values, scaling issues, and encoding (imputers, scalers, encoders for categoric features) as necessary."
      ]
    },
    {
      "cell_type": "code",
      "metadata": {
        "id": "EHpdMYZZvAEf"
      },
      "source": [
        "# drop non-essential columns\n",
        "df_train.drop(['ID','Var_1'], axis=1, inplace=True)\n",
        "df_test.drop(['ID','Var_1'], axis=1, inplace=True)\n",
        "\n"
      ],
      "execution_count": 403,
      "outputs": []
    },
    {
      "cell_type": "code",
      "metadata": {
        "colab": {
          "base_uri": "https://localhost:8080/"
        },
        "id": "Ow47r2I72x7B",
        "outputId": "c9eded54-6011-4229-b49b-19dccfedbf53"
      },
      "source": [
        "# Check to see if there are any missing values\n",
        "df_train.isnull().sum()"
      ],
      "execution_count": 404,
      "outputs": [
        {
          "output_type": "execute_result",
          "data": {
            "text/plain": [
              "Gender               0\n",
              "Ever_Married       140\n",
              "Age                  0\n",
              "Graduated           78\n",
              "Profession         124\n",
              "Work_Experience    829\n",
              "Spending_Score       0\n",
              "Family_Size        335\n",
              "Segmentation         0\n",
              "dtype: int64"
            ]
          },
          "metadata": {
            "tags": []
          },
          "execution_count": 404
        }
      ]
    },
    {
      "cell_type": "markdown",
      "metadata": {
        "id": "7yYULAyFAH-g"
      },
      "source": [
        "From the analysis above, we find out that the columns that require imputation are as follows: Ever_Married, Graduated, Profession, Work_Experience, Family_Size"
      ]
    },
    {
      "cell_type": "code",
      "metadata": {
        "colab": {
          "base_uri": "https://localhost:8080/"
        },
        "id": "2z47MdSPAQkd",
        "outputId": "f92fb11f-c06f-40eb-cf7c-c3d1a0d85e2b"
      },
      "source": [
        "df_train.dtypes"
      ],
      "execution_count": 405,
      "outputs": [
        {
          "output_type": "execute_result",
          "data": {
            "text/plain": [
              "Gender              object\n",
              "Ever_Married        object\n",
              "Age                  int64\n",
              "Graduated           object\n",
              "Profession          object\n",
              "Work_Experience    float64\n",
              "Spending_Score      object\n",
              "Family_Size        float64\n",
              "Segmentation        object\n",
              "dtype: object"
            ]
          },
          "metadata": {
            "tags": []
          },
          "execution_count": 405
        }
      ]
    },
    {
      "cell_type": "code",
      "metadata": {
        "colab": {
          "base_uri": "https://localhost:8080/",
          "height": 603
        },
        "id": "g0aFL5bCb5zl",
        "outputId": "99c01309-a795-47c0-957b-d940f13d88ae"
      },
      "source": [
        "X_cat =df_train.drop(columns = ['Age','Work_Experience','Family_Size']) #dropping numeric cols\n",
        "Y_train=df_train.drop(columns = ['Segmentation']\n",
        "figure, axes = plt.subplots(2, 3, figsize=(10, 10))\n",
        "\n",
        "# function to help display subplots \n",
        "\n",
        "classIndex = 0;\n",
        "\n",
        "for row in range(3):\n",
        "  for col in range(3):\n",
        "    if classIndex == 5: \n",
        "      break\n",
        "    ct1 = pd.crosstab(Y_train[:], X_cat[X_cat.columns[classIndex]])\n",
        "    ct1.plot.bar(ax = axes[row][col])\n",
        "    classIndex += 1\n",
        "    \n",
        "\n",
        "plt.show()\n",
        "\n"
      ],
      "execution_count": 406,
      "outputs": [
        {
          "output_type": "display_data",
          "data": {
            "image/png": "[encoded data removed]",
            "text/plain": [
              "<Figure size 720x720 with 6 Axes>"
            ]
          },
          "metadata": {
            "tags": [],
            "needs_background": "light"
          }
        }
      ]
    },
    {
      "cell_type": "markdown",
      "metadata": {
        "id": "GbcCvG65p1QY"
      },
      "source": [
        "**Ever_married/ segmentation**: segment A,B,C favour married while segment D favours unmarried\n",
        "\n",
        "**Graduate/ segmentation**: segment A,B,C favour graduates  while segment D favours  non graduates\n",
        "\n",
        "**Spending_Score/ segmentation**: segment A and D favour low spenders, (almost 3 times other in segment D)"
      ]
    },
    {
      "cell_type": "code",
      "metadata": {
        "colab": {
          "base_uri": "https://localhost:8080/",
          "height": 279
        },
        "id": "D2lRYN1BrrcG",
        "outputId": "0c89f457-cde4-4995-f6a2-eb55fd2a4077"
      },
      "source": [
        "ax = sns.boxplot(x='Segmentation', y='Age', data=df_train)\n"
      ],
      "execution_count": 407,
      "outputs": [
        {
          "output_type": "display_data",
          "data": {
            "image/png": "[encoded data removed]",
            "text/plain": [
              "<Figure size 432x288 with 1 Axes>"
            ]
          },
          "metadata": {
            "tags": [],
            "needs_background": "light"
          }
        }
      ]
    },
    {
      "cell_type": "code",
      "metadata": {
        "colab": {
          "base_uri": "https://localhost:8080/",
          "height": 279
        },
        "id": "zde6mt_WyD2H",
        "outputId": "b211b68c-d8c0-42fe-987d-6acec36f6a2a"
      },
      "source": [
        "ax = sns.boxplot(x='Segmentation', y='Work_Experience', data=df_train)"
      ],
      "execution_count": 408,
      "outputs": [
        {
          "output_type": "display_data",
          "data": {
            "image/png": "[encoded data removed]",
            "text/plain": [
              "<Figure size 432x288 with 1 Axes>"
            ]
          },
          "metadata": {
            "tags": [],
            "needs_background": "light"
          }
        }
      ]
    },
    {
      "cell_type": "code",
      "metadata": {
        "colab": {
          "base_uri": "https://localhost:8080/",
          "height": 279
        },
        "id": "cuw9LO-jyEI4",
        "outputId": "c91151c6-1656-4363-dbe4-079fdc58c514"
      },
      "source": [
        "ax = sns.boxplot(x='Segmentation', y='Family_Size', data=df_train)"
      ],
      "execution_count": 409,
      "outputs": [
        {
          "output_type": "display_data",
          "data": {
            "image/png": "[encoded data removed]",
            "text/plain": [
              "<Figure size 432x288 with 1 Axes>"
            ]
          },
          "metadata": {
            "tags": [],
            "needs_background": "light"
          }
        }
      ]
    },
    {
      "cell_type": "markdown",
      "metadata": {
        "id": "vFywin__BEp9"
      },
      "source": [
        "\n",
        "Age and Family size appear to be correlated to segmentation\n",
        "\n",
        "To get peason correlation we need to do some preprocessing on input data as correlation doesnt work on categorical data\n"
      ]
    },
    {
      "cell_type": "code",
      "metadata": {
        "id": "XvTkibee6a4V"
      },
      "source": [
        "# Split target from features and drop unnecessary columns\n",
        "\n",
        "X_train = df_train.drop(['Segmentation'], axis=1)\n",
        "Y_train = df_train['Segmentation']\n",
        "X_test = df_test.drop(['Segmentation'], axis=1)\n",
        "Y_test = df_test['Segmentation']\n"
      ],
      "execution_count": 410,
      "outputs": []
    },
    {
      "cell_type": "code",
      "metadata": {
        "id": "QdDXEiabN6YN"
      },
      "source": [
        "# function for prelim processing of Categorical data and numerical data\n",
        "from sklearn.impute import SimpleImputer, KNNImputer\n",
        "from sklearn.preprocessing import OneHotEncoder, StandardScaler, OrdinalEncoder, MinMaxScaler\n",
        "\n",
        "\n",
        "def prelim_process_cat (column):\n",
        "  \n",
        "  # replace missing values with most frequently occuring using imputer \n",
        "  imputer = SimpleImputer(strategy='most_frequent')\n",
        "  imputer.fit(column)\n",
        "  imputed_data = imputer.transform(column)\n",
        "  \n",
        "  #  encode categorical values\n",
        "  encoder = OrdinalEncoder()\n",
        "  encoder.fit(imputed_data)\n",
        "  return encoder.transform(imputed_data)\n",
        "\n",
        "def prelim_process_num (column):\n",
        "  \n",
        "  # replace missing values with most frequently occuring using imputer \n",
        "  imputer = SimpleImputer(strategy='most_frequent')\n",
        "  imputer.fit(column)\n",
        "  return imputer.transform(column)\n",
        "  "
      ],
      "execution_count": 411,
      "outputs": []
    },
    {
      "cell_type": "code",
      "metadata": {
        "id": "bUYUYzlXSocJ"
      },
      "source": [
        "# Categorical Values\n",
        "cat_cols = ['Gender', 'Ever_Married', 'Graduated', 'Profession', 'Spending_Score', 'Segmentation'];\n",
        "\n",
        "# for each categorical col,impute and encode\n",
        "for col in cat_cols:\n",
        "  df_train[col] = prelim_process_cat(pd.DataFrame(df_train[col]))"
      ],
      "execution_count": 412,
      "outputs": []
    },
    {
      "cell_type": "code",
      "metadata": {
        "id": "vgpAWn7NVxRe"
      },
      "source": [
        "#Impute Numerical values \n",
        "\n",
        "num_cols=['Age','Work_Experience','Family_Size']\n",
        "\n",
        "# for each numerical col,impute \n",
        "for col in num_cols:\n",
        "  df_train[col] = prelim_process_num(pd.DataFrame(df_train[col]))"
      ],
      "execution_count": 413,
      "outputs": []
    },
    {
      "cell_type": "code",
      "metadata": {
        "colab": {
          "base_uri": "https://localhost:8080/",
          "height": 297
        },
        "id": "-_HOvPQyXQAv",
        "outputId": "ab97cd10-e6c0-47df-b17f-b94d6cab3882"
      },
      "source": [
        "df_train.describe()"
      ],
      "execution_count": 414,
      "outputs": [
        {
          "output_type": "execute_result",
          "data": {
            "text/html": [
              "<div>\n",
              "<style scoped>\n",
              "    .dataframe tbody tr th:only-of-type {\n",
              "        vertical-align: middle;\n",
              "    }\n",
              "\n",
              "    .dataframe tbody tr th {\n",
              "        vertical-align: top;\n",
              "    }\n",
              "\n",
              "    .dataframe thead th {\n",
              "        text-align: right;\n",
              "    }\n",
              "</style>\n",
              "<table border=\"1\" class=\"dataframe\">\n",
              "  <thead>\n",
              "    <tr style=\"text-align: right;\">\n",
              "      <th></th>\n",
              "      <th>Gender</th>\n",
              "      <th>Ever_Married</th>\n",
              "      <th>Age</th>\n",
              "      <th>Graduated</th>\n",
              "      <th>Profession</th>\n",
              "      <th>Work_Experience</th>\n",
              "      <th>Spending_Score</th>\n",
              "      <th>Family_Size</th>\n",
              "      <th>Segmentation</th>\n",
              "    </tr>\n",
              "  </thead>\n",
              "  <tbody>\n",
              "    <tr>\n",
              "      <th>count</th>\n",
              "      <td>8068.000000</td>\n",
              "      <td>8068.000000</td>\n",
              "      <td>8068.000000</td>\n",
              "      <td>8068.000000</td>\n",
              "      <td>8068.000000</td>\n",
              "      <td>8068.000000</td>\n",
              "      <td>8068.000000</td>\n",
              "      <td>8068.000000</td>\n",
              "      <td>8068.000000</td>\n",
              "    </tr>\n",
              "    <tr>\n",
              "      <th>mean</th>\n",
              "      <td>0.547471</td>\n",
              "      <td>0.592836</td>\n",
              "      <td>43.466906</td>\n",
              "      <td>0.625434</td>\n",
              "      <td>2.746901</td>\n",
              "      <td>2.472980</td>\n",
              "      <td>1.359941</td>\n",
              "      <td>2.814824</td>\n",
              "      <td>1.561973</td>\n",
              "    </tr>\n",
              "    <tr>\n",
              "      <th>std</th>\n",
              "      <td>0.497772</td>\n",
              "      <td>0.491336</td>\n",
              "      <td>16.711696</td>\n",
              "      <td>0.484041</td>\n",
              "      <td>2.541418</td>\n",
              "      <td>3.265248</td>\n",
              "      <td>0.848418</td>\n",
              "      <td>1.508841</td>\n",
              "      <td>1.139029</td>\n",
              "    </tr>\n",
              "    <tr>\n",
              "      <th>min</th>\n",
              "      <td>0.000000</td>\n",
              "      <td>0.000000</td>\n",
              "      <td>18.000000</td>\n",
              "      <td>0.000000</td>\n",
              "      <td>0.000000</td>\n",
              "      <td>0.000000</td>\n",
              "      <td>0.000000</td>\n",
              "      <td>1.000000</td>\n",
              "      <td>0.000000</td>\n",
              "    </tr>\n",
              "    <tr>\n",
              "      <th>25%</th>\n",
              "      <td>0.000000</td>\n",
              "      <td>0.000000</td>\n",
              "      <td>30.000000</td>\n",
              "      <td>0.000000</td>\n",
              "      <td>0.000000</td>\n",
              "      <td>0.000000</td>\n",
              "      <td>1.000000</td>\n",
              "      <td>2.000000</td>\n",
              "      <td>1.000000</td>\n",
              "    </tr>\n",
              "    <tr>\n",
              "      <th>50%</th>\n",
              "      <td>1.000000</td>\n",
              "      <td>1.000000</td>\n",
              "      <td>40.000000</td>\n",
              "      <td>1.000000</td>\n",
              "      <td>3.000000</td>\n",
              "      <td>1.000000</td>\n",
              "      <td>2.000000</td>\n",
              "      <td>2.000000</td>\n",
              "      <td>2.000000</td>\n",
              "    </tr>\n",
              "    <tr>\n",
              "      <th>75%</th>\n",
              "      <td>1.000000</td>\n",
              "      <td>1.000000</td>\n",
              "      <td>53.000000</td>\n",
              "      <td>1.000000</td>\n",
              "      <td>5.000000</td>\n",
              "      <td>4.000000</td>\n",
              "      <td>2.000000</td>\n",
              "      <td>4.000000</td>\n",
              "      <td>3.000000</td>\n",
              "    </tr>\n",
              "    <tr>\n",
              "      <th>max</th>\n",
              "      <td>1.000000</td>\n",
              "      <td>1.000000</td>\n",
              "      <td>89.000000</td>\n",
              "      <td>1.000000</td>\n",
              "      <td>8.000000</td>\n",
              "      <td>14.000000</td>\n",
              "      <td>2.000000</td>\n",
              "      <td>9.000000</td>\n",
              "      <td>3.000000</td>\n",
              "    </tr>\n",
              "  </tbody>\n",
              "</table>\n",
              "</div>"
            ],
            "text/plain": [
              "            Gender  Ever_Married  ...  Family_Size  Segmentation\n",
              "count  8068.000000   8068.000000  ...  8068.000000   8068.000000\n",
              "mean      0.547471      0.592836  ...     2.814824      1.561973\n",
              "std       0.497772      0.491336  ...     1.508841      1.139029\n",
              "min       0.000000      0.000000  ...     1.000000      0.000000\n",
              "25%       0.000000      0.000000  ...     2.000000      1.000000\n",
              "50%       1.000000      1.000000  ...     2.000000      2.000000\n",
              "75%       1.000000      1.000000  ...     4.000000      3.000000\n",
              "max       1.000000      1.000000  ...     9.000000      3.000000\n",
              "\n",
              "[8 rows x 9 columns]"
            ]
          },
          "metadata": {
            "tags": []
          },
          "execution_count": 414
        }
      ]
    },
    {
      "cell_type": "code",
      "metadata": {
        "colab": {
          "base_uri": "https://localhost:8080/",
          "height": 345
        },
        "id": "m48ldDKQXdkd",
        "outputId": "c9ecddb0-e7ef-4a46-b671-5a889354be20"
      },
      "source": [
        "#Correlation\n",
        "\n",
        "g = sns.heatmap(df_train[[\"Gender\", \"Ever_Married\", \"Age\", \"Graduated\", \"Profession\", \"Work_Experience\", \"Spending_Score\", \"Family_Size\", \"Segmentation\"]].corr(),\n",
        "                annot=True, \n",
        "                cmap = \"Pastel1\")"
      ],
      "execution_count": 415,
      "outputs": [
        {
          "output_type": "display_data",
          "data": {
            "image/png": "[encoded data removed]",
            "text/plain": [
              "<Figure size 432x288 with 2 Axes>"
            ]
          },
          "metadata": {
            "tags": [],
            "needs_background": "light"
          }
        }
      ]
    },
    {
      "cell_type": "markdown",
      "metadata": {
        "id": "J-W-CoA6ZsH3"
      },
      "source": [
        "From above heatmap we infer that Profession, Family size are also strongly correlated to target and the corelation is positive.\n",
        "Customer age also has strong correlation to target class (segmentation) and the corelation is inverse meaning lower the age, the more likely to be classified as a particular class.\n",
        "\n"
      ]
    },
    {
      "cell_type": "markdown",
      "metadata": {
        "id": "oVBb06fVKrQ_"
      },
      "source": [
        "### Creating Pipelines"
      ]
    },
    {
      "cell_type": "markdown",
      "metadata": {
        "id": "Bya4XjANKkqT"
      },
      "source": [
        "![image.png](data:image/png;base64,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)"
      ]
    },
    {
      "cell_type": "markdown",
      "metadata": {
        "id": "CS5Me3-xK2Pf"
      },
      "source": [
        "ColumnTransformer allows us to specify which pipeline will be applied to which column.\n",
        "\n",
        "By default imputers or transformers apply to the entire dataset, but we often prefer to have finer control over categorical and numerical columns.\n",
        "\n",
        "The combination of Pipeline and ColumnTransformer is powerful."
      ]
    },
    {
      "cell_type": "code",
      "metadata": {
        "id": "OA2M5x9zK4J5"
      },
      "source": [
        "# Columntransformer for preprocessing \n",
        "\n",
        "from sklearn.compose import ColumnTransformer\n",
        "from sklearn.pipeline import Pipeline, make_pipeline\n",
        "from sklearn.impute import SimpleImputer, KNNImputer\n",
        "from sklearn.preprocessing import StandardScaler, OrdinalEncoder\n",
        "\n",
        "\n",
        "#pipeline for the categoric attributes\n",
        "\n",
        "cat_cols = [\"Gender\", \"Ever_Married\", \"Graduated\", \"Profession\", \"Spending_Score\"]\n",
        "\n",
        "cat_transformer = Pipeline(steps=[\n",
        "    ('imputer', SimpleImputer(strategy='most_frequent')),\n",
        "    ('ordinal', OrdinalEncoder())\n",
        "])\n",
        "\n",
        "\n",
        "\n",
        "# pipeline for the numeric attributes\n",
        "num_cols = ['Age', 'Family_Size', 'Work_Experience']\n",
        "\n",
        "num_transformer = Pipeline(steps=[\n",
        "    ('imputer', KNNImputer(n_neighbors=5)),\n",
        "    ('scaler', StandardScaler())\n",
        "])\n",
        "\n",
        "\n",
        "#applying column transformations\n",
        "preprocessor = ColumnTransformer(\n",
        "    transformers=[\n",
        "        ('num', num_transformer, num_cols),\n",
        "        ('cat', cat_transformer, cat_cols)\n",
        "    ])"
      ],
      "execution_count": 416,
      "outputs": []
    },
    {
      "cell_type": "markdown",
      "metadata": {
        "id": "J4rkP3Ud4GZi"
      },
      "source": [
        "**Problem Statement :** Create pipelines to obtain classification accuracy measures for SVC (linear, poly, RBF) and DecisionTreeClassifier (gini, entropy) models"
      ]
    },
    {
      "cell_type": "code",
      "metadata": {
        "id": "jUrI5WXT4O-C"
      },
      "source": [
        "from sklearn.model_selection import train_test_split, cross_val_score, GridSearchCV\n",
        "from sklearn.tree import DecisionTreeClassifier\n",
        "from sklearn.svm import SVC\n",
        "\n",
        "num_folds = 10\n",
        "\n",
        "########## A decicion tree with gini\n",
        "gini_dt_clf = Pipeline(steps=[('preprocessor', preprocessor),\n",
        "                      ('classifier', DecisionTreeClassifier(criterion='gini'))])\n",
        "\n",
        "gini_dt_score = cross_val_score(gini_dt_clf, X_train, Y_train, cv=num_folds, scoring=\"accuracy\").mean()\n",
        "\n",
        "\n",
        "########## A decicion tree with entropy\n",
        "entropy_dt_clf = Pipeline(steps=[('preprocessor', preprocessor),\n",
        "                      ('classifier', DecisionTreeClassifier(criterion='entropy'))])\n",
        "\n",
        "entropy_dt_score = cross_val_score(entropy_dt_clf, X_train, Y_train, cv=num_folds, scoring=\"accuracy\").mean()\n",
        "\n",
        "\n",
        "########## An RBF kernel classifier\n",
        "rbf_svc_clf = Pipeline(steps=[('preprocessor', preprocessor),\n",
        "                      ('classifier', SVC(kernel='rbf'))])\n",
        "\n",
        "rbf_svc_clf_score = cross_val_score(rbf_svc_clf, X_train, Y_train, cv=num_folds, scoring=\"accuracy\").mean()\n",
        "\n",
        "\n",
        "########## A poly kernel classifier\n",
        "poly_svc_clf = Pipeline(steps=[('preprocessor', preprocessor),\n",
        "                      ('classifier', SVC(kernel='poly'))])\n",
        "\n",
        "poly_svc_clf_score = cross_val_score(poly_svc_clf, X_train, Y_train, cv=num_folds, scoring=\"accuracy\").mean()\n",
        "\n",
        "########## A linear kernel classifier\n",
        "linear_svc_clf = Pipeline(steps=[('preprocessor', preprocessor),\n",
        "                      ('classifier', SVC(kernel='linear'))])\n",
        "\n",
        "linear_svc_clf_score = cross_val_score(linear_svc_clf, X_train, Y_train, cv=num_folds, scoring=\"accuracy\").mean()"
      ],
      "execution_count": 417,
      "outputs": []
    },
    {
      "cell_type": "code",
      "metadata": {
        "colab": {
          "base_uri": "https://localhost:8080/",
          "height": 281
        },
        "id": "VoJ-4K0G8plB",
        "outputId": "fffcdab5-f31f-4c5f-d34f-cd52f9e0691f"
      },
      "source": [
        "# Summarize the findings for all models\n",
        "\n",
        "labels = ['DT (Gini)', 'DT (Entropy)', 'SVC(Linear)', 'SVC (RBF)', 'SVC (Poly)']\n",
        "training_scores = [gini_dt_score, entropy_dt_score, linear_svc_clf_score, rbf_svc_clf_score, poly_svc_clf_score]\n",
        "\n",
        "x = np.arange(len(labels))  # the label locations\n",
        "width = 0.35  # the width of the bars\n",
        "\n",
        "fig, ax = plt.subplots()\n",
        "rects1 = ax.bar(x - width/2, training_scores, width, label='CV=10', color='orange')\n",
        "\n",
        "# Add some text for labels, title and custom x-axis tick labels, etc.\n",
        "ax.set_ylabel('Accuracy')\n",
        "ax.set_xticks(x)\n",
        "ax.set_ylim(0,1)\n",
        "ax.set_xticklabels(labels)\n",
        "ax.legend(bbox_to_anchor = (1.3, 1.0), loc='upper right')\n",
        "\n",
        "plt.title('Model Comparisons')\n",
        "plt.show()"
      ],
      "execution_count": 418,
      "outputs": [
        {
          "output_type": "display_data",
          "data": {
            "image/png": "[encoded data removed]",
            "text/plain": [
              "<Figure size 432x288 with 1 Axes>"
            ]
          },
          "metadata": {
            "tags": [],
            "needs_background": "light"
          }
        }
      ]
    },
    {
      "cell_type": "code",
      "metadata": {
        "colab": {
          "base_uri": "https://localhost:8080/",
          "height": 887
        },
        "id": "axxt2v1j8ywY",
        "outputId": "2f1c40a9-80ea-4016-eca3-586f67983a8a"
      },
      "source": [
        "# Convert the decision tree model to text and graph\n",
        "\n",
        "from matplotlib import pyplot\n",
        "from sklearn.tree import export_text, export_graphviz\n",
        "import graphviz\n",
        "\n",
        "\n",
        "# the DT model is refit to the entire dataset\n",
        "tree_X = df_train.copy(deep=True)\n",
        "tree_y = df_train[\"Segmentation\"]\n",
        "\n",
        "# drop target and non-essential columns\n",
        "tree_X.drop(['Segmentation'], axis=1, inplace=True)\n",
        "\n",
        "\n",
        "# we need to refit the DT model that is part of a composite pipe before exporting it as text\n",
        "entropy_dt_clf['classifier'].fit(preprocessor.fit_transform(tree_X), tree_y)\n",
        "\n",
        "\n",
        "# display the induced decision tree as a series of logical rules\n",
        "text_representation = export_text(entropy_dt_clf['classifier'],\n",
        "                                  feature_names=[ \"Gender\",\"Ever_Married\",\"Age\", \"Graduated\",\"Profession\" ,\"Work_Experience\",\"Spending_Score\",\"Family_Size\" ],\n",
        "                                  max_depth=2)\n",
        "print(text_representation)\n",
        "\n",
        "\n",
        "# draw the induced decision tree\n",
        "dot_data = export_graphviz(entropy_dt_clf['classifier'],\n",
        "                                  max_depth=2,\n",
        "                                  feature_names=[\"Gender\",\"Ever_Married\",\"Age\", \"Graduated\",\"Profession\" ,\"Work_Experience\",\"Spending_Score\",\"Family_Size\" ],\n",
        "                                  filled=True)\n",
        "\n",
        "graph = graphviz.Source(dot_data, format=\"png\") \n",
        "graph\n",
        "\n",
        "\n"
      ],
      "execution_count": 419,
      "outputs": [
        {
          "output_type": "stream",
          "text": [
            "|--- Gender <= -0.57\n",
            "|   |--- Gender <= -1.16\n",
            "|   |   |--- Spending_Score <= 4.50\n",
            "|   |   |   |--- truncated branch of depth 14\n",
            "|   |   |--- Spending_Score >  4.50\n",
            "|   |   |   |--- truncated branch of depth 14\n",
            "|   |--- Gender >  -1.16\n",
            "|   |   |--- Spending_Score <= 4.50\n",
            "|   |   |   |--- truncated branch of depth 22\n",
            "|   |   |--- Spending_Score >  4.50\n",
            "|   |   |   |--- truncated branch of depth 21\n",
            "|--- Gender >  -0.57\n",
            "|   |--- Family_Size <= 1.50\n",
            "|   |   |--- Work_Experience <= 0.50\n",
            "|   |   |   |--- truncated branch of depth 20\n",
            "|   |   |--- Work_Experience >  0.50\n",
            "|   |   |   |--- truncated branch of depth 25\n",
            "|   |--- Family_Size >  1.50\n",
            "|   |   |--- Spending_Score <= 1.50\n",
            "|   |   |   |--- truncated branch of depth 20\n",
            "|   |   |--- Spending_Score >  1.50\n",
            "|   |   |   |--- truncated branch of depth 21\n",
            "\n"
          ],
          "name": "stdout"
        },
        {
          "output_type": "execute_result",
          "data": {
            "text/plain": [
              "<graphviz.files.Source at 0x7f3047429b50>"
            ],
            "image/svg+xml": "<?xml version=\"1.0\" encoding=\"UTF-8\" standalone=\"no\"?>\n<!DOCTYPE svg PUBLIC \"-//W3C//DTD SVG 1.1//EN\"\n \"http://www.w3.org/Graphics/SVG/1.1/DTD/svg11.dtd\">\n<!-- Generated by graphviz version 2.40.1 (20161225.0304)\n -->\n<!-- Title: Tree Pages: 1 -->\n<svg width=\"792pt\" height=\"356pt\"\n viewBox=\"0.00 0.00 791.50 356.00\" xmlns=\"http://www.w3.org/2000/svg\" xmlns:xlink=\"http://www.w3.org/1999/xlink\">\n<g id=\"graph0\" class=\"graph\" transform=\"scale(1 1) rotate(0) translate(4 352)\">\n<title>Tree</title>\n<polygon fill=\"#ffffff\" stroke=\"transparent\" points=\"-4,4 -4,-352 787.5,-352 787.5,4 -4,4\"/>\n<!-- 0 -->\n<g id=\"node1\" class=\"node\">\n<title>0</title>\n<polygon fill=\"#fdf5fe\" stroke=\"#000000\" points=\"485.5,-348 270.5,-348 270.5,-280 485.5,-280 485.5,-348\"/>\n<text text-anchor=\"middle\" x=\"378\" y=\"-332.8\" font-family=\"Times,serif\" font-size=\"14.00\" fill=\"#000000\">Gender &lt;= &#45;0.567</text>\n<text text-anchor=\"middle\" x=\"378\" y=\"-317.8\" font-family=\"Times,serif\" font-size=\"14.00\" fill=\"#000000\">entropy = 1.996</text>\n<text text-anchor=\"middle\" x=\"378\" y=\"-302.8\" font-family=\"Times,serif\" font-size=\"14.00\" fill=\"#000000\">samples = 8068</text>\n<text text-anchor=\"middle\" x=\"378\" y=\"-287.8\" font-family=\"Times,serif\" font-size=\"14.00\" fill=\"#000000\">value = [1972, 1858, 1970, 2268]</text>\n</g>\n<!-- 1 -->\n<g id=\"node2\" class=\"node\">\n<title>1</title>\n<polygon fill=\"#eca0f3\" stroke=\"#000000\" points=\"365,-244 173,-244 173,-176 365,-176 365,-244\"/>\n<text text-anchor=\"middle\" x=\"269\" y=\"-228.8\" font-family=\"Times,serif\" font-size=\"14.00\" fill=\"#000000\">Gender &lt;= &#45;1.165</text>\n<text text-anchor=\"middle\" x=\"269\" y=\"-213.8\" font-family=\"Times,serif\" font-size=\"14.00\" fill=\"#000000\">entropy = 1.613</text>\n<text text-anchor=\"middle\" x=\"269\" y=\"-198.8\" font-family=\"Times,serif\" font-size=\"14.00\" fill=\"#000000\">samples = 2693</text>\n<text text-anchor=\"middle\" x=\"269\" y=\"-183.8\" font-family=\"Times,serif\" font-size=\"14.00\" fill=\"#000000\">value = [536, 281, 305, 1571]</text>\n</g>\n<!-- 0&#45;&gt;1 -->\n<g id=\"edge1\" class=\"edge\">\n<title>0&#45;&gt;1</title>\n<path fill=\"none\" stroke=\"#000000\" d=\"M342.3093,-279.9465C332.7109,-270.7884 322.2253,-260.7838 312.2634,-251.2788\"/>\n<polygon fill=\"#000000\" stroke=\"#000000\" points=\"314.4221,-248.5009 304.7709,-244.13 309.5898,-253.5655 314.4221,-248.5009\"/>\n<text text-anchor=\"middle\" x=\"305.3576\" y=\"-265.4231\" font-family=\"Times,serif\" font-size=\"14.00\" fill=\"#000000\">True</text>\n</g>\n<!-- 2334 -->\n<g id=\"node9\" class=\"node\">\n<title>2334</title>\n<polygon fill=\"#fafdfe\" stroke=\"#000000\" points=\"590.5,-244 383.5,-244 383.5,-176 590.5,-176 590.5,-244\"/>\n<text text-anchor=\"middle\" x=\"487\" y=\"-228.8\" font-family=\"Times,serif\" font-size=\"14.00\" fill=\"#000000\">Family_Size &lt;= 1.5</text>\n<text text-anchor=\"middle\" x=\"487\" y=\"-213.8\" font-family=\"Times,serif\" font-size=\"14.00\" fill=\"#000000\">entropy = 1.934</text>\n<text text-anchor=\"middle\" x=\"487\" y=\"-198.8\" font-family=\"Times,serif\" font-size=\"14.00\" fill=\"#000000\">samples = 5375</text>\n<text text-anchor=\"middle\" x=\"487\" y=\"-183.8\" font-family=\"Times,serif\" font-size=\"14.00\" fill=\"#000000\">value = [1436, 1577, 1665, 697]</text>\n</g>\n<!-- 0&#45;&gt;2334 -->\n<g id=\"edge8\" class=\"edge\">\n<title>0&#45;&gt;2334</title>\n<path fill=\"none\" stroke=\"#000000\" d=\"M413.6907,-279.9465C423.2891,-270.7884 433.7747,-260.7838 443.7366,-251.2788\"/>\n<polygon fill=\"#000000\" stroke=\"#000000\" points=\"446.4102,-253.5655 451.2291,-244.13 441.5779,-248.5009 446.4102,-253.5655\"/>\n<text text-anchor=\"middle\" x=\"450.6424\" y=\"-265.4231\" font-family=\"Times,serif\" font-size=\"14.00\" fill=\"#000000\">False</text>\n</g>\n<!-- 2 -->\n<g id=\"node3\" class=\"node\">\n<title>2</title>\n<polygon fill=\"#dc50e8\" stroke=\"#000000\" points=\"162,-140 0,-140 0,-72 162,-72 162,-140\"/>\n<text text-anchor=\"middle\" x=\"81\" y=\"-124.8\" font-family=\"Times,serif\" font-size=\"14.00\" fill=\"#000000\">Spending_Score &lt;= 4.5</text>\n<text text-anchor=\"middle\" x=\"81\" y=\"-109.8\" font-family=\"Times,serif\" font-size=\"14.00\" fill=\"#000000\">entropy = 0.667</text>\n<text text-anchor=\"middle\" x=\"81\" y=\"-94.8\" font-family=\"Times,serif\" font-size=\"14.00\" fill=\"#000000\">samples = 780</text>\n<text text-anchor=\"middle\" x=\"81\" y=\"-79.8\" font-family=\"Times,serif\" font-size=\"14.00\" fill=\"#000000\">value = [25, 25, 35, 695]</text>\n</g>\n<!-- 1&#45;&gt;2 -->\n<g id=\"edge2\" class=\"edge\">\n<title>1&#45;&gt;2</title>\n<path fill=\"none\" stroke=\"#000000\" d=\"M207.4418,-175.9465C189.5883,-166.0701 169.9552,-155.2093 151.5944,-145.0522\"/>\n<polygon fill=\"#000000\" stroke=\"#000000\" points=\"153.1411,-141.908 142.6965,-140.13 149.7527,-148.0333 153.1411,-141.908\"/>\n</g>\n<!-- 219 -->\n<g id=\"node6\" class=\"node\">\n<title>219</title>\n<polygon fill=\"#f5cbf8\" stroke=\"#000000\" points=\"364,-140 180,-140 180,-72 364,-72 364,-140\"/>\n<text text-anchor=\"middle\" x=\"272\" y=\"-124.8\" font-family=\"Times,serif\" font-size=\"14.00\" fill=\"#000000\">Spending_Score &lt;= 4.5</text>\n<text text-anchor=\"middle\" x=\"272\" y=\"-109.8\" font-family=\"Times,serif\" font-size=\"14.00\" fill=\"#000000\">entropy = 1.812</text>\n<text text-anchor=\"middle\" x=\"272\" y=\"-94.8\" font-family=\"Times,serif\" font-size=\"14.00\" fill=\"#000000\">samples = 1913</text>\n<text text-anchor=\"middle\" x=\"272\" y=\"-79.8\" font-family=\"Times,serif\" font-size=\"14.00\" fill=\"#000000\">value = [511, 256, 270, 876]</text>\n</g>\n<!-- 1&#45;&gt;219 -->\n<g id=\"edge5\" class=\"edge\">\n<title>1&#45;&gt;219</title>\n<path fill=\"none\" stroke=\"#000000\" d=\"M269.9823,-175.9465C270.218,-167.776 270.4731,-158.9318 270.7201,-150.3697\"/>\n<polygon fill=\"#000000\" stroke=\"#000000\" points=\"274.2256,-150.2268 271.0155,-140.13 267.2285,-150.0249 274.2256,-150.2268\"/>\n</g>\n<!-- 3 -->\n<g id=\"node4\" class=\"node\">\n<title>3</title>\n<polygon fill=\"#c0c0c0\" stroke=\"#000000\" points=\"72,-36 18,-36 18,0 72,0 72,-36\"/>\n<text text-anchor=\"middle\" x=\"45\" y=\"-14.3\" font-family=\"Times,serif\" font-size=\"14.00\" fill=\"#000000\">(...)</text>\n</g>\n<!-- 2&#45;&gt;3 -->\n<g id=\"edge3\" class=\"edge\">\n<title>2&#45;&gt;3</title>\n<path fill=\"none\" stroke=\"#000000\" d=\"M67.0815,-71.9769C63.4977,-63.2167 59.6862,-53.8995 56.2564,-45.5157\"/>\n<polygon fill=\"#000000\" stroke=\"#000000\" points=\"59.468,-44.1222 52.4422,-36.192 52.9891,-46.7727 59.468,-44.1222\"/>\n</g>\n<!-- 140 -->\n<g id=\"node5\" class=\"node\">\n<title>140</title>\n<polygon fill=\"#c0c0c0\" stroke=\"#000000\" points=\"144,-36 90,-36 90,0 144,0 144,-36\"/>\n<text text-anchor=\"middle\" x=\"117\" y=\"-14.3\" font-family=\"Times,serif\" font-size=\"14.00\" fill=\"#000000\">(...)</text>\n</g>\n<!-- 2&#45;&gt;140 -->\n<g id=\"edge4\" class=\"edge\">\n<title>2&#45;&gt;140</title>\n<path fill=\"none\" stroke=\"#000000\" d=\"M94.9185,-71.9769C98.5023,-63.2167 102.3138,-53.8995 105.7436,-45.5157\"/>\n<polygon fill=\"#000000\" stroke=\"#000000\" points=\"109.0109,-46.7727 109.5578,-36.192 102.532,-44.1222 109.0109,-46.7727\"/>\n</g>\n<!-- 220 -->\n<g id=\"node7\" class=\"node\">\n<title>220</title>\n<polygon fill=\"#c0c0c0\" stroke=\"#000000\" points=\"281,-36 227,-36 227,0 281,0 281,-36\"/>\n<text text-anchor=\"middle\" x=\"254\" y=\"-14.3\" font-family=\"Times,serif\" font-size=\"14.00\" fill=\"#000000\">(...)</text>\n</g>\n<!-- 219&#45;&gt;220 -->\n<g id=\"edge6\" class=\"edge\">\n<title>219&#45;&gt;220</title>\n<path fill=\"none\" stroke=\"#000000\" d=\"M265.0407,-71.9769C263.2878,-63.4071 261.4259,-54.3043 259.7403,-46.0638\"/>\n<polygon fill=\"#000000\" stroke=\"#000000\" points=\"263.1541,-45.2877 257.7211,-36.192 256.2961,-46.6905 263.1541,-45.2877\"/>\n</g>\n<!-- 1511 -->\n<g id=\"node8\" class=\"node\">\n<title>1511</title>\n<polygon fill=\"#c0c0c0\" stroke=\"#000000\" points=\"353,-36 299,-36 299,0 353,0 353,-36\"/>\n<text text-anchor=\"middle\" x=\"326\" y=\"-14.3\" font-family=\"Times,serif\" font-size=\"14.00\" fill=\"#000000\">(...)</text>\n</g>\n<!-- 219&#45;&gt;1511 -->\n<g id=\"edge7\" class=\"edge\">\n<title>219&#45;&gt;1511</title>\n<path fill=\"none\" stroke=\"#000000\" d=\"M292.8778,-71.9769C298.3703,-63.0262 304.2195,-53.4941 309.4501,-44.9703\"/>\n<polygon fill=\"#000000\" stroke=\"#000000\" points=\"312.5897,-46.5458 314.8368,-36.192 306.6234,-42.8846 312.5897,-46.5458\"/>\n</g>\n<!-- 2335 -->\n<g id=\"node10\" class=\"node\">\n<title>2335</title>\n<polygon fill=\"#daedfa\" stroke=\"#000000\" points=\"580,-140 388,-140 388,-72 580,-72 580,-140\"/>\n<text text-anchor=\"middle\" x=\"484\" y=\"-124.8\" font-family=\"Times,serif\" font-size=\"14.00\" fill=\"#000000\">Work_Experience &lt;= 0.5</text>\n<text text-anchor=\"middle\" x=\"484\" y=\"-109.8\" font-family=\"Times,serif\" font-size=\"14.00\" fill=\"#000000\">entropy = 1.735</text>\n<text text-anchor=\"middle\" x=\"484\" y=\"-94.8\" font-family=\"Times,serif\" font-size=\"14.00\" fill=\"#000000\">samples = 2878</text>\n<text text-anchor=\"middle\" x=\"484\" y=\"-79.8\" font-family=\"Times,serif\" font-size=\"14.00\" fill=\"#000000\">value = [501, 915, 1281, 181]</text>\n</g>\n<!-- 2334&#45;&gt;2335 -->\n<g id=\"edge9\" class=\"edge\">\n<title>2334&#45;&gt;2335</title>\n<path fill=\"none\" stroke=\"#000000\" d=\"M486.0177,-175.9465C485.782,-167.776 485.5269,-158.9318 485.2799,-150.3697\"/>\n<polygon fill=\"#000000\" stroke=\"#000000\" points=\"488.7715,-150.0249 484.9845,-140.13 481.7744,-150.2268 488.7715,-150.0249\"/>\n</g>\n<!-- 5358 -->\n<g id=\"node13\" class=\"node\">\n<title>5358</title>\n<polygon fill=\"#fbece2\" stroke=\"#000000\" points=\"783.5,-140 598.5,-140 598.5,-72 783.5,-72 783.5,-140\"/>\n<text text-anchor=\"middle\" x=\"691\" y=\"-124.8\" font-family=\"Times,serif\" font-size=\"14.00\" fill=\"#000000\">Spending_Score &lt;= 1.5</text>\n<text text-anchor=\"middle\" x=\"691\" y=\"-109.8\" font-family=\"Times,serif\" font-size=\"14.00\" fill=\"#000000\">entropy = 1.924</text>\n<text text-anchor=\"middle\" x=\"691\" y=\"-94.8\" font-family=\"Times,serif\" font-size=\"14.00\" fill=\"#000000\">samples = 2497</text>\n<text text-anchor=\"middle\" x=\"691\" y=\"-79.8\" font-family=\"Times,serif\" font-size=\"14.00\" fill=\"#000000\">value = [935, 662, 384, 516]</text>\n</g>\n<!-- 2334&#45;&gt;5358 -->\n<g id=\"edge12\" class=\"edge\">\n<title>2334&#45;&gt;5358</title>\n<path fill=\"none\" stroke=\"#000000\" d=\"M553.7972,-175.9465C573.3463,-165.9803 594.8617,-155.0117 614.9406,-144.7754\"/>\n<polygon fill=\"#000000\" stroke=\"#000000\" points=\"616.7333,-147.7901 624.0527,-140.13 613.554,-141.5537 616.7333,-147.7901\"/>\n</g>\n<!-- 2336 -->\n<g id=\"node11\" class=\"node\">\n<title>2336</title>\n<polygon fill=\"#c0c0c0\" stroke=\"#000000\" points=\"456,-36 402,-36 402,0 456,0 456,-36\"/>\n<text text-anchor=\"middle\" x=\"429\" y=\"-14.3\" font-family=\"Times,serif\" font-size=\"14.00\" fill=\"#000000\">(...)</text>\n</g>\n<!-- 2335&#45;&gt;2336 -->\n<g id=\"edge10\" class=\"edge\">\n<title>2335&#45;&gt;2336</title>\n<path fill=\"none\" stroke=\"#000000\" d=\"M462.7356,-71.9769C457.0819,-62.931 451.057,-53.2913 445.6866,-44.6986\"/>\n<polygon fill=\"#000000\" stroke=\"#000000\" points=\"448.638,-42.8169 440.37,-36.192 442.702,-46.527 448.638,-42.8169\"/>\n</g>\n<!-- 3249 -->\n<g id=\"node12\" class=\"node\">\n<title>3249</title>\n<polygon fill=\"#c0c0c0\" stroke=\"#000000\" points=\"528,-36 474,-36 474,0 528,0 528,-36\"/>\n<text text-anchor=\"middle\" x=\"501\" y=\"-14.3\" font-family=\"Times,serif\" font-size=\"14.00\" fill=\"#000000\">(...)</text>\n</g>\n<!-- 2335&#45;&gt;3249 -->\n<g id=\"edge11\" class=\"edge\">\n<title>2335&#45;&gt;3249</title>\n<path fill=\"none\" stroke=\"#000000\" d=\"M490.5726,-71.9769C492.2282,-63.4071 493.9867,-54.3043 495.5786,-46.0638\"/>\n<polygon fill=\"#000000\" stroke=\"#000000\" points=\"499.0253,-46.6743 497.4856,-36.192 492.1524,-45.3465 499.0253,-46.6743\"/>\n</g>\n<!-- 5359 -->\n<g id=\"node14\" class=\"node\">\n<title>5359</title>\n<polygon fill=\"#c0c0c0\" stroke=\"#000000\" points=\"682,-36 628,-36 628,0 682,0 682,-36\"/>\n<text text-anchor=\"middle\" x=\"655\" y=\"-14.3\" font-family=\"Times,serif\" font-size=\"14.00\" fill=\"#000000\">(...)</text>\n</g>\n<!-- 5358&#45;&gt;5359 -->\n<g id=\"edge13\" class=\"edge\">\n<title>5358&#45;&gt;5359</title>\n<path fill=\"none\" stroke=\"#000000\" d=\"M677.0815,-71.9769C673.4977,-63.2167 669.6862,-53.8995 666.2564,-45.5157\"/>\n<polygon fill=\"#000000\" stroke=\"#000000\" points=\"669.468,-44.1222 662.4422,-36.192 662.9891,-46.7727 669.468,-44.1222\"/>\n</g>\n<!-- 6704 -->\n<g id=\"node15\" class=\"node\">\n<title>6704</title>\n<polygon fill=\"#c0c0c0\" stroke=\"#000000\" points=\"754,-36 700,-36 700,0 754,0 754,-36\"/>\n<text text-anchor=\"middle\" x=\"727\" y=\"-14.3\" font-family=\"Times,serif\" font-size=\"14.00\" fill=\"#000000\">(...)</text>\n</g>\n<!-- 5358&#45;&gt;6704 -->\n<g id=\"edge14\" class=\"edge\">\n<title>5358&#45;&gt;6704</title>\n<path fill=\"none\" stroke=\"#000000\" d=\"M704.9185,-71.9769C708.5023,-63.2167 712.3138,-53.8995 715.7436,-45.5157\"/>\n<polygon fill=\"#000000\" stroke=\"#000000\" points=\"719.0109,-46.7727 719.5578,-36.192 712.532,-44.1222 719.0109,-46.7727\"/>\n</g>\n</g>\n</svg>\n"
          },
          "metadata": {
            "tags": []
          },
          "execution_count": 419
        }
      ]
    },
    {
      "cell_type": "code",
      "metadata": {
        "colab": {
          "base_uri": "https://localhost:8080/",
          "height": 297
        },
        "id": "QPCFDhYEEMNR",
        "outputId": "678d0734-5714-4c16-88bf-13b0bd429ce1"
      },
      "source": [
        "df_train.describe()"
      ],
      "execution_count": 420,
      "outputs": [
        {
          "output_type": "execute_result",
          "data": {
            "text/html": [
              "<div>\n",
              "<style scoped>\n",
              "    .dataframe tbody tr th:only-of-type {\n",
              "        vertical-align: middle;\n",
              "    }\n",
              "\n",
              "    .dataframe tbody tr th {\n",
              "        vertical-align: top;\n",
              "    }\n",
              "\n",
              "    .dataframe thead th {\n",
              "        text-align: right;\n",
              "    }\n",
              "</style>\n",
              "<table border=\"1\" class=\"dataframe\">\n",
              "  <thead>\n",
              "    <tr style=\"text-align: right;\">\n",
              "      <th></th>\n",
              "      <th>Gender</th>\n",
              "      <th>Ever_Married</th>\n",
              "      <th>Age</th>\n",
              "      <th>Graduated</th>\n",
              "      <th>Profession</th>\n",
              "      <th>Work_Experience</th>\n",
              "      <th>Spending_Score</th>\n",
              "      <th>Family_Size</th>\n",
              "      <th>Segmentation</th>\n",
              "    </tr>\n",
              "  </thead>\n",
              "  <tbody>\n",
              "    <tr>\n",
              "      <th>count</th>\n",
              "      <td>8068.000000</td>\n",
              "      <td>8068.000000</td>\n",
              "      <td>8068.000000</td>\n",
              "      <td>8068.000000</td>\n",
              "      <td>8068.000000</td>\n",
              "      <td>8068.000000</td>\n",
              "      <td>8068.000000</td>\n",
              "      <td>8068.000000</td>\n",
              "      <td>8068.000000</td>\n",
              "    </tr>\n",
              "    <tr>\n",
              "      <th>mean</th>\n",
              "      <td>0.547471</td>\n",
              "      <td>0.592836</td>\n",
              "      <td>43.466906</td>\n",
              "      <td>0.625434</td>\n",
              "      <td>2.746901</td>\n",
              "      <td>2.472980</td>\n",
              "      <td>1.359941</td>\n",
              "      <td>2.814824</td>\n",
              "      <td>1.561973</td>\n",
              "    </tr>\n",
              "    <tr>\n",
              "      <th>std</th>\n",
              "      <td>0.497772</td>\n",
              "      <td>0.491336</td>\n",
              "      <td>16.711696</td>\n",
              "      <td>0.484041</td>\n",
              "      <td>2.541418</td>\n",
              "      <td>3.265248</td>\n",
              "      <td>0.848418</td>\n",
              "      <td>1.508841</td>\n",
              "      <td>1.139029</td>\n",
              "    </tr>\n",
              "    <tr>\n",
              "      <th>min</th>\n",
              "      <td>0.000000</td>\n",
              "      <td>0.000000</td>\n",
              "      <td>18.000000</td>\n",
              "      <td>0.000000</td>\n",
              "      <td>0.000000</td>\n",
              "      <td>0.000000</td>\n",
              "      <td>0.000000</td>\n",
              "      <td>1.000000</td>\n",
              "      <td>0.000000</td>\n",
              "    </tr>\n",
              "    <tr>\n",
              "      <th>25%</th>\n",
              "      <td>0.000000</td>\n",
              "      <td>0.000000</td>\n",
              "      <td>30.000000</td>\n",
              "      <td>0.000000</td>\n",
              "      <td>0.000000</td>\n",
              "      <td>0.000000</td>\n",
              "      <td>1.000000</td>\n",
              "      <td>2.000000</td>\n",
              "      <td>1.000000</td>\n",
              "    </tr>\n",
              "    <tr>\n",
              "      <th>50%</th>\n",
              "      <td>1.000000</td>\n",
              "      <td>1.000000</td>\n",
              "      <td>40.000000</td>\n",
              "      <td>1.000000</td>\n",
              "      <td>3.000000</td>\n",
              "      <td>1.000000</td>\n",
              "      <td>2.000000</td>\n",
              "      <td>2.000000</td>\n",
              "      <td>2.000000</td>\n",
              "    </tr>\n",
              "    <tr>\n",
              "      <th>75%</th>\n",
              "      <td>1.000000</td>\n",
              "      <td>1.000000</td>\n",
              "      <td>53.000000</td>\n",
              "      <td>1.000000</td>\n",
              "      <td>5.000000</td>\n",
              "      <td>4.000000</td>\n",
              "      <td>2.000000</td>\n",
              "      <td>4.000000</td>\n",
              "      <td>3.000000</td>\n",
              "    </tr>\n",
              "    <tr>\n",
              "      <th>max</th>\n",
              "      <td>1.000000</td>\n",
              "      <td>1.000000</td>\n",
              "      <td>89.000000</td>\n",
              "      <td>1.000000</td>\n",
              "      <td>8.000000</td>\n",
              "      <td>14.000000</td>\n",
              "      <td>2.000000</td>\n",
              "      <td>9.000000</td>\n",
              "      <td>3.000000</td>\n",
              "    </tr>\n",
              "  </tbody>\n",
              "</table>\n",
              "</div>"
            ],
            "text/plain": [
              "            Gender  Ever_Married  ...  Family_Size  Segmentation\n",
              "count  8068.000000   8068.000000  ...  8068.000000   8068.000000\n",
              "mean      0.547471      0.592836  ...     2.814824      1.561973\n",
              "std       0.497772      0.491336  ...     1.508841      1.139029\n",
              "min       0.000000      0.000000  ...     1.000000      0.000000\n",
              "25%       0.000000      0.000000  ...     2.000000      1.000000\n",
              "50%       1.000000      1.000000  ...     2.000000      2.000000\n",
              "75%       1.000000      1.000000  ...     4.000000      3.000000\n",
              "max       1.000000      1.000000  ...     9.000000      3.000000\n",
              "\n",
              "[8 rows x 9 columns]"
            ]
          },
          "metadata": {
            "tags": []
          },
          "execution_count": 420
        }
      ]
    },
    {
      "cell_type": "code",
      "metadata": {
        "colab": {
          "base_uri": "https://localhost:8080/",
          "height": 401
        },
        "id": "oVOeOIpC_v50",
        "outputId": "d01901e6-4db4-4e46-c96f-c9b65d892695"
      },
      "source": [
        "# get feature importances from the model\n",
        "importance = entropy_dt_clf['classifier'].feature_importances_\n",
        "\n",
        "# summarize feature importances\n",
        "for i,v in enumerate(importance):\n",
        "\tprint('Feature: %0d, Score: %.5f' % (i,v))\n",
        " \n",
        "# plot feature importances\n",
        "pyplot.bar([x for x in range(len(importance))], importance)\n",
        "pyplot.show()"
      ],
      "execution_count": 421,
      "outputs": [
        {
          "output_type": "stream",
          "text": [
            "Feature: 0, Score: 0.40845\n",
            "Feature: 1, Score: 0.11392\n",
            "Feature: 2, Score: 0.17692\n",
            "Feature: 3, Score: 0.04924\n",
            "Feature: 4, Score: 0.02499\n",
            "Feature: 5, Score: 0.04118\n",
            "Feature: 6, Score: 0.11944\n",
            "Feature: 7, Score: 0.06586\n"
          ],
          "name": "stdout"
        },
        {
          "output_type": "display_data",
          "data": {
            "image/png": "[encoded data removed]",
            "text/plain": [
              "<Figure size 432x288 with 1 Axes>"
            ]
          },
          "metadata": {
            "tags": [],
            "needs_background": "light"
          }
        }
      ]
    },
    {
      "cell_type": "markdown",
      "metadata": {
        "id": "yMnebGxiIoqN"
      },
      "source": [
        "**Problem Statement**:Plot the obtained accuracy values for each model before and after hyperparameter parameters of your choice have been optimized using GridSearchCV."
      ]
    },
    {
      "cell_type": "code",
      "metadata": {
        "colab": {
          "base_uri": "https://localhost:8080/"
        },
        "id": "Htz3ZSwmI2Hy",
        "outputId": "2f1e5279-cd0c-4556-de6b-8576e2f616f8"
      },
      "source": [
        "# Use GridSearchCV to find optimum hyperparameter values for the DT model\n",
        "\n",
        "# create a dictionary of all values we want to test\n",
        "param_grid1 = { 'criterion':['gini','entropy'],    # impurity criterion\n",
        "              'max_depth': np.arange(3, 15)}      # tree depth \n",
        "   \n",
        "    \n",
        "# use gridsearch to test all values\n",
        "grid_search1 = GridSearchCV(entropy_dt_clf['classifier'], \n",
        "                           param_grid1, \n",
        "                           cv=3)\n",
        "    \n",
        "# fit the model \n",
        "grid_search1.fit(preprocessor.fit_transform(X_train), Y_train)\n",
        "\n",
        "   \n",
        "print(\"For DT, the best achieved accuracy after hyperparameter optimization: %.2f \\n\" % (grid_search1.best_score_))\n",
        "\n",
        "print(\"The best DT model hyperparameters:\", grid_search1.best_params_)"
      ],
      "execution_count": 435,
      "outputs": [
        {
          "output_type": "stream",
          "text": [
            "For DT, the best achieved accuracy after hyperparameter optimization: 0.52 \n",
            "\n",
            "The best DT model hyperparameters: {'criterion': 'gini', 'max_depth': 5}\n"
          ],
          "name": "stdout"
        }
      ]
    },
    {
      "cell_type": "code",
      "metadata": {
        "colab": {
          "base_uri": "https://localhost:8080/"
        },
        "id": "HPnhY29tJVTk",
        "outputId": "a3bde474-0616-4a13-82a1-0ca6eb9468d0"
      },
      "source": [
        "# Use GridSearchCV to find optimum hyperparameter values for the DT model\n",
        "\n",
        "# create a dictionary of all values we want to test\n",
        "param_grid2 = { 'kernel':['rbf','linear', 'poly'],    # kernel\n",
        "                'decision_function_shape': ['ovo', 'ovr'], # decision function (choose between ovo, one verus one, and ovr, one versus rest)\n",
        "                 'C' : np.arange(1, 3),\n",
        "                 'degree': np.arange(1,3)\n",
        "               } \n",
        "   \n",
        "    \n",
        "# use gridsearch to test all values\n",
        "grid_search2 = GridSearchCV(rbf_svc_clf['classifier'], \n",
        "                           param_grid2, \n",
        "                           cv=3)\n",
        "    \n",
        "# fit the model \n",
        "grid_search2.fit(preprocessor.fit_transform(X_train), Y_train)\n",
        "\n",
        "   \n",
        "print(\"For SVC, the best achieved accuracy after hyperparameter optimization: %.2f \\n\" % (grid_search2.best_score_))\n",
        "\n",
        "print(\"The best SVC model hyperparameters:\", grid_search2.best_params_)"
      ],
      "execution_count": 436,
      "outputs": [
        {
          "output_type": "stream",
          "text": [
            "For SVC, the best achieved accuracy after hyperparameter optimization: 0.52 \n",
            "\n",
            "The best SVC model hyperparameters: {'C': 1, 'decision_function_shape': 'ovo', 'degree': 1, 'kernel': 'rbf'}\n"
          ],
          "name": "stdout"
        }
      ]
    },
    {
      "cell_type": "code",
      "metadata": {
        "colab": {
          "base_uri": "https://localhost:8080/",
          "height": 281
        },
        "id": "uiBCL2cBJplZ",
        "outputId": "a0f58220-21e2-4d9e-b30d-f74361aa8cf0"
      },
      "source": [
        "# graph results of grid search for the two models\n",
        "\n",
        "labels = ['DT (Gini)', 'SVC (RBF)']\n",
        "before_optimization_scores = [gini_dt_score, rbf_svc_clf_score]\n",
        "after_optimization_scores = [grid_search1.best_score_, grid_search2.best_score_]\n",
        "\n",
        "x = np.arange(len(labels))  # the label locations\n",
        "width = 0.25                # the width of the bars\n",
        "\n",
        "fig, ax = plt.subplots()\n",
        "rects1 = ax.bar(x - width/2, before_optimization_scores, width, label='Before Optimization', color='gray')\n",
        "rects2 = ax.bar(x + width/2, after_optimization_scores, width, label='After Optimization', color='maroon')\n",
        "\n",
        "# Add some text for labels, title and custom x-axis tick labels, etc.\n",
        "ax.set_ylabel('Accuracy')\n",
        "ax.set_xticks(x)\n",
        "ax.set_ylim(0,1.0)\n",
        "ax.set_xticklabels(labels)\n",
        "ax.legend(bbox_to_anchor = (1.45, 1.0), loc='upper right')\n",
        "\n",
        "plt.title('Hyperparamater Optimization Results')\n",
        "plt.show()"
      ],
      "execution_count": 437,
      "outputs": [
        {
          "output_type": "display_data",
          "data": {
            "image/png": "[encoded data removed]",
            "text/plain": [
              "<Figure size 432x288 with 1 Axes>"
            ]
          },
          "metadata": {
            "tags": [],
            "needs_background": "light"
          }
        }
      ]
    },
    {
      "cell_type": "markdown",
      "metadata": {
        "id": "HbHzQWbVMDuD"
      },
      "source": [
        "### **Summary**\n",
        "In this exercise, the following functionalities were used on the Titanic dataset:\n",
        "\n",
        "1.   pipelines to impute and prepare data\n",
        "2.   pipelines to perform classification\n",
        "1.   converting decision trees to text and graph\n",
        "2.   performing grid search to optimize a few hyperparameters"
      ]
    }
  ]
}