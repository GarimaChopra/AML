{
  "nbformat": 4,
  "nbformat_minor": 0,
  "metadata": {
    "colab": {
      "name": "Project1_ForestFires.ipynb",
      "provenance": [],
      "authorship_tag": "ABX9TyNtKlri/w1wNKchQAqjfs2g",
      "include_colab_link": true
    },
    "kernelspec": {
      "name": "python3",
      "display_name": "Python 3"
    },
    "language_info": {
      "name": "python"
    }
  },
  "cells": [
    {
      "cell_type": "markdown",
      "metadata": {
        "id": "view-in-github",
        "colab_type": "text"
      },
      "source": [
        "<a href=\"https://colab.research.google.com/github/GarimaChopra/AML/blob/main/Project1_ForestFires.ipynb\" target=\"_parent\"><img src=\"https://colab.research.google.com/assets/colab-badge.svg\" alt=\"Open In Colab\"/></a>"
      ]
    },
    {
      "cell_type": "code",
      "metadata": {
        "id": "N-QxAHjD2ymc"
      },
      "source": [
        "\n",
        "# Using Pandas for importing data from file \n",
        "import pandas as pd\n",
        "\n",
        "# Import matplotlib and seaborn libraries to visualize the data\n",
        "import matplotlib.pyplot as plt \n",
        "import seaborn as sbn\n",
        "\n",
        "# Using numpy for to operate on multidimentional arrays.\n",
        "import numpy as np"
      ],
      "execution_count": 241,
      "outputs": []
    },
    {
      "cell_type": "code",
      "metadata": {
        "id": "6cttamej5ZHx"
      },
      "source": [
        "# Read raw file from github into a dataframe\n",
        "# forestfires.csv: predict the burned area of forest fires using various factors\n",
        "df = pd.read_csv('https://raw.githubusercontent.com/GarimaChopra/AML/main/forestfires.csv')\n"
      ],
      "execution_count": 242,
      "outputs": []
    },
    {
      "cell_type": "code",
      "metadata": {
        "id": "dNdkuFEq-BwN",
        "colab": {
          "base_uri": "https://localhost:8080/",
          "height": 419
        },
        "outputId": "ea185768-45ce-44b9-93ab-b9200350b80c"
      },
      "source": [
        "# display the dataframe \n",
        "df"
      ],
      "execution_count": 243,
      "outputs": [
        {
          "output_type": "execute_result",
          "data": {
            "text/html": [
              "<div>\n",
              "<style scoped>\n",
              "    .dataframe tbody tr th:only-of-type {\n",
              "        vertical-align: middle;\n",
              "    }\n",
              "\n",
              "    .dataframe tbody tr th {\n",
              "        vertical-align: top;\n",
              "    }\n",
              "\n",
              "    .dataframe thead th {\n",
              "        text-align: right;\n",
              "    }\n",
              "</style>\n",
              "<table border=\"1\" class=\"dataframe\">\n",
              "  <thead>\n",
              "    <tr style=\"text-align: right;\">\n",
              "      <th></th>\n",
              "      <th>X</th>\n",
              "      <th>Y</th>\n",
              "      <th>month</th>\n",
              "      <th>day</th>\n",
              "      <th>FFMC</th>\n",
              "      <th>DMC</th>\n",
              "      <th>DC</th>\n",
              "      <th>ISI</th>\n",
              "      <th>temp</th>\n",
              "      <th>RH</th>\n",
              "      <th>wind</th>\n",
              "      <th>rain</th>\n",
              "      <th>area</th>\n",
              "    </tr>\n",
              "  </thead>\n",
              "  <tbody>\n",
              "    <tr>\n",
              "      <th>0</th>\n",
              "      <td>7</td>\n",
              "      <td>5</td>\n",
              "      <td>mar</td>\n",
              "      <td>fri</td>\n",
              "      <td>86.2</td>\n",
              "      <td>26.2</td>\n",
              "      <td>94.3</td>\n",
              "      <td>5.1</td>\n",
              "      <td>8.2</td>\n",
              "      <td>51</td>\n",
              "      <td>6.7</td>\n",
              "      <td>0.0</td>\n",
              "      <td>0.00</td>\n",
              "    </tr>\n",
              "    <tr>\n",
              "      <th>1</th>\n",
              "      <td>7</td>\n",
              "      <td>4</td>\n",
              "      <td>oct</td>\n",
              "      <td>tue</td>\n",
              "      <td>90.6</td>\n",
              "      <td>35.4</td>\n",
              "      <td>669.1</td>\n",
              "      <td>6.7</td>\n",
              "      <td>18.0</td>\n",
              "      <td>33</td>\n",
              "      <td>0.9</td>\n",
              "      <td>0.0</td>\n",
              "      <td>0.00</td>\n",
              "    </tr>\n",
              "    <tr>\n",
              "      <th>2</th>\n",
              "      <td>7</td>\n",
              "      <td>4</td>\n",
              "      <td>oct</td>\n",
              "      <td>sat</td>\n",
              "      <td>90.6</td>\n",
              "      <td>43.7</td>\n",
              "      <td>686.9</td>\n",
              "      <td>6.7</td>\n",
              "      <td>14.6</td>\n",
              "      <td>33</td>\n",
              "      <td>1.3</td>\n",
              "      <td>0.0</td>\n",
              "      <td>0.00</td>\n",
              "    </tr>\n",
              "    <tr>\n",
              "      <th>3</th>\n",
              "      <td>8</td>\n",
              "      <td>6</td>\n",
              "      <td>mar</td>\n",
              "      <td>fri</td>\n",
              "      <td>91.7</td>\n",
              "      <td>33.3</td>\n",
              "      <td>77.5</td>\n",
              "      <td>9.0</td>\n",
              "      <td>8.3</td>\n",
              "      <td>97</td>\n",
              "      <td>4.0</td>\n",
              "      <td>0.2</td>\n",
              "      <td>0.00</td>\n",
              "    </tr>\n",
              "    <tr>\n",
              "      <th>4</th>\n",
              "      <td>8</td>\n",
              "      <td>6</td>\n",
              "      <td>mar</td>\n",
              "      <td>sun</td>\n",
              "      <td>89.3</td>\n",
              "      <td>51.3</td>\n",
              "      <td>102.2</td>\n",
              "      <td>9.6</td>\n",
              "      <td>11.4</td>\n",
              "      <td>99</td>\n",
              "      <td>1.8</td>\n",
              "      <td>0.0</td>\n",
              "      <td>0.00</td>\n",
              "    </tr>\n",
              "    <tr>\n",
              "      <th>...</th>\n",
              "      <td>...</td>\n",
              "      <td>...</td>\n",
              "      <td>...</td>\n",
              "      <td>...</td>\n",
              "      <td>...</td>\n",
              "      <td>...</td>\n",
              "      <td>...</td>\n",
              "      <td>...</td>\n",
              "      <td>...</td>\n",
              "      <td>...</td>\n",
              "      <td>...</td>\n",
              "      <td>...</td>\n",
              "      <td>...</td>\n",
              "    </tr>\n",
              "    <tr>\n",
              "      <th>512</th>\n",
              "      <td>4</td>\n",
              "      <td>3</td>\n",
              "      <td>aug</td>\n",
              "      <td>sun</td>\n",
              "      <td>81.6</td>\n",
              "      <td>56.7</td>\n",
              "      <td>665.6</td>\n",
              "      <td>1.9</td>\n",
              "      <td>27.8</td>\n",
              "      <td>32</td>\n",
              "      <td>2.7</td>\n",
              "      <td>0.0</td>\n",
              "      <td>6.44</td>\n",
              "    </tr>\n",
              "    <tr>\n",
              "      <th>513</th>\n",
              "      <td>2</td>\n",
              "      <td>4</td>\n",
              "      <td>aug</td>\n",
              "      <td>sun</td>\n",
              "      <td>81.6</td>\n",
              "      <td>56.7</td>\n",
              "      <td>665.6</td>\n",
              "      <td>1.9</td>\n",
              "      <td>21.9</td>\n",
              "      <td>71</td>\n",
              "      <td>5.8</td>\n",
              "      <td>0.0</td>\n",
              "      <td>54.29</td>\n",
              "    </tr>\n",
              "    <tr>\n",
              "      <th>514</th>\n",
              "      <td>7</td>\n",
              "      <td>4</td>\n",
              "      <td>aug</td>\n",
              "      <td>sun</td>\n",
              "      <td>81.6</td>\n",
              "      <td>56.7</td>\n",
              "      <td>665.6</td>\n",
              "      <td>1.9</td>\n",
              "      <td>21.2</td>\n",
              "      <td>70</td>\n",
              "      <td>6.7</td>\n",
              "      <td>0.0</td>\n",
              "      <td>11.16</td>\n",
              "    </tr>\n",
              "    <tr>\n",
              "      <th>515</th>\n",
              "      <td>1</td>\n",
              "      <td>4</td>\n",
              "      <td>aug</td>\n",
              "      <td>sat</td>\n",
              "      <td>94.4</td>\n",
              "      <td>146.0</td>\n",
              "      <td>614.7</td>\n",
              "      <td>11.3</td>\n",
              "      <td>25.6</td>\n",
              "      <td>42</td>\n",
              "      <td>4.0</td>\n",
              "      <td>0.0</td>\n",
              "      <td>0.00</td>\n",
              "    </tr>\n",
              "    <tr>\n",
              "      <th>516</th>\n",
              "      <td>6</td>\n",
              "      <td>3</td>\n",
              "      <td>nov</td>\n",
              "      <td>tue</td>\n",
              "      <td>79.5</td>\n",
              "      <td>3.0</td>\n",
              "      <td>106.7</td>\n",
              "      <td>1.1</td>\n",
              "      <td>11.8</td>\n",
              "      <td>31</td>\n",
              "      <td>4.5</td>\n",
              "      <td>0.0</td>\n",
              "      <td>0.00</td>\n",
              "    </tr>\n",
              "  </tbody>\n",
              "</table>\n",
              "<p>517 rows × 13 columns</p>\n",
              "</div>"
            ],
            "text/plain": [
              "     X  Y month  day  FFMC    DMC     DC   ISI  temp  RH  wind  rain   area\n",
              "0    7  5   mar  fri  86.2   26.2   94.3   5.1   8.2  51   6.7   0.0   0.00\n",
              "1    7  4   oct  tue  90.6   35.4  669.1   6.7  18.0  33   0.9   0.0   0.00\n",
              "2    7  4   oct  sat  90.6   43.7  686.9   6.7  14.6  33   1.3   0.0   0.00\n",
              "3    8  6   mar  fri  91.7   33.3   77.5   9.0   8.3  97   4.0   0.2   0.00\n",
              "4    8  6   mar  sun  89.3   51.3  102.2   9.6  11.4  99   1.8   0.0   0.00\n",
              "..  .. ..   ...  ...   ...    ...    ...   ...   ...  ..   ...   ...    ...\n",
              "512  4  3   aug  sun  81.6   56.7  665.6   1.9  27.8  32   2.7   0.0   6.44\n",
              "513  2  4   aug  sun  81.6   56.7  665.6   1.9  21.9  71   5.8   0.0  54.29\n",
              "514  7  4   aug  sun  81.6   56.7  665.6   1.9  21.2  70   6.7   0.0  11.16\n",
              "515  1  4   aug  sat  94.4  146.0  614.7  11.3  25.6  42   4.0   0.0   0.00\n",
              "516  6  3   nov  tue  79.5    3.0  106.7   1.1  11.8  31   4.5   0.0   0.00\n",
              "\n",
              "[517 rows x 13 columns]"
            ]
          },
          "metadata": {
            "tags": []
          },
          "execution_count": 243
        }
      ]
    },
    {
      "cell_type": "code",
      "metadata": {
        "colab": {
          "base_uri": "https://localhost:8080/"
        },
        "id": "oRL5_BbwBjX-",
        "outputId": "0ef2349e-b99e-4ffb-f6a5-2f2c2d15b01a"
      },
      "source": [
        "# the size of the dataset\n",
        "df.shape"
      ],
      "execution_count": 244,
      "outputs": [
        {
          "output_type": "execute_result",
          "data": {
            "text/plain": [
              "(517, 13)"
            ]
          },
          "metadata": {
            "tags": []
          },
          "execution_count": 244
        }
      ]
    },
    {
      "cell_type": "code",
      "metadata": {
        "colab": {
          "base_uri": "https://localhost:8080/",
          "height": 297
        },
        "id": "ZSolPNJqBrow",
        "outputId": "764473f2-a05f-4f81-9dbf-e7f49811e9ad"
      },
      "source": [
        "# statistical details of dataset\n",
        "df.describe()\n"
      ],
      "execution_count": 245,
      "outputs": [
        {
          "output_type": "execute_result",
          "data": {
            "text/html": [
              "<div>\n",
              "<style scoped>\n",
              "    .dataframe tbody tr th:only-of-type {\n",
              "        vertical-align: middle;\n",
              "    }\n",
              "\n",
              "    .dataframe tbody tr th {\n",
              "        vertical-align: top;\n",
              "    }\n",
              "\n",
              "    .dataframe thead th {\n",
              "        text-align: right;\n",
              "    }\n",
              "</style>\n",
              "<table border=\"1\" class=\"dataframe\">\n",
              "  <thead>\n",
              "    <tr style=\"text-align: right;\">\n",
              "      <th></th>\n",
              "      <th>X</th>\n",
              "      <th>Y</th>\n",
              "      <th>FFMC</th>\n",
              "      <th>DMC</th>\n",
              "      <th>DC</th>\n",
              "      <th>ISI</th>\n",
              "      <th>temp</th>\n",
              "      <th>RH</th>\n",
              "      <th>wind</th>\n",
              "      <th>rain</th>\n",
              "      <th>area</th>\n",
              "    </tr>\n",
              "  </thead>\n",
              "  <tbody>\n",
              "    <tr>\n",
              "      <th>count</th>\n",
              "      <td>517.000000</td>\n",
              "      <td>517.000000</td>\n",
              "      <td>517.000000</td>\n",
              "      <td>517.000000</td>\n",
              "      <td>517.000000</td>\n",
              "      <td>517.000000</td>\n",
              "      <td>517.000000</td>\n",
              "      <td>517.000000</td>\n",
              "      <td>517.000000</td>\n",
              "      <td>517.000000</td>\n",
              "      <td>517.000000</td>\n",
              "    </tr>\n",
              "    <tr>\n",
              "      <th>mean</th>\n",
              "      <td>4.669246</td>\n",
              "      <td>4.299807</td>\n",
              "      <td>90.644681</td>\n",
              "      <td>110.872340</td>\n",
              "      <td>547.940039</td>\n",
              "      <td>9.021663</td>\n",
              "      <td>18.889168</td>\n",
              "      <td>44.288201</td>\n",
              "      <td>4.017602</td>\n",
              "      <td>0.021663</td>\n",
              "      <td>12.847292</td>\n",
              "    </tr>\n",
              "    <tr>\n",
              "      <th>std</th>\n",
              "      <td>2.313778</td>\n",
              "      <td>1.229900</td>\n",
              "      <td>5.520111</td>\n",
              "      <td>64.046482</td>\n",
              "      <td>248.066192</td>\n",
              "      <td>4.559477</td>\n",
              "      <td>5.806625</td>\n",
              "      <td>16.317469</td>\n",
              "      <td>1.791653</td>\n",
              "      <td>0.295959</td>\n",
              "      <td>63.655818</td>\n",
              "    </tr>\n",
              "    <tr>\n",
              "      <th>min</th>\n",
              "      <td>1.000000</td>\n",
              "      <td>2.000000</td>\n",
              "      <td>18.700000</td>\n",
              "      <td>1.100000</td>\n",
              "      <td>7.900000</td>\n",
              "      <td>0.000000</td>\n",
              "      <td>2.200000</td>\n",
              "      <td>15.000000</td>\n",
              "      <td>0.400000</td>\n",
              "      <td>0.000000</td>\n",
              "      <td>0.000000</td>\n",
              "    </tr>\n",
              "    <tr>\n",
              "      <th>25%</th>\n",
              "      <td>3.000000</td>\n",
              "      <td>4.000000</td>\n",
              "      <td>90.200000</td>\n",
              "      <td>68.600000</td>\n",
              "      <td>437.700000</td>\n",
              "      <td>6.500000</td>\n",
              "      <td>15.500000</td>\n",
              "      <td>33.000000</td>\n",
              "      <td>2.700000</td>\n",
              "      <td>0.000000</td>\n",
              "      <td>0.000000</td>\n",
              "    </tr>\n",
              "    <tr>\n",
              "      <th>50%</th>\n",
              "      <td>4.000000</td>\n",
              "      <td>4.000000</td>\n",
              "      <td>91.600000</td>\n",
              "      <td>108.300000</td>\n",
              "      <td>664.200000</td>\n",
              "      <td>8.400000</td>\n",
              "      <td>19.300000</td>\n",
              "      <td>42.000000</td>\n",
              "      <td>4.000000</td>\n",
              "      <td>0.000000</td>\n",
              "      <td>0.520000</td>\n",
              "    </tr>\n",
              "    <tr>\n",
              "      <th>75%</th>\n",
              "      <td>7.000000</td>\n",
              "      <td>5.000000</td>\n",
              "      <td>92.900000</td>\n",
              "      <td>142.400000</td>\n",
              "      <td>713.900000</td>\n",
              "      <td>10.800000</td>\n",
              "      <td>22.800000</td>\n",
              "      <td>53.000000</td>\n",
              "      <td>4.900000</td>\n",
              "      <td>0.000000</td>\n",
              "      <td>6.570000</td>\n",
              "    </tr>\n",
              "    <tr>\n",
              "      <th>max</th>\n",
              "      <td>9.000000</td>\n",
              "      <td>9.000000</td>\n",
              "      <td>96.200000</td>\n",
              "      <td>291.300000</td>\n",
              "      <td>860.600000</td>\n",
              "      <td>56.100000</td>\n",
              "      <td>33.300000</td>\n",
              "      <td>100.000000</td>\n",
              "      <td>9.400000</td>\n",
              "      <td>6.400000</td>\n",
              "      <td>1090.840000</td>\n",
              "    </tr>\n",
              "  </tbody>\n",
              "</table>\n",
              "</div>"
            ],
            "text/plain": [
              "                X           Y        FFMC  ...        wind        rain         area\n",
              "count  517.000000  517.000000  517.000000  ...  517.000000  517.000000   517.000000\n",
              "mean     4.669246    4.299807   90.644681  ...    4.017602    0.021663    12.847292\n",
              "std      2.313778    1.229900    5.520111  ...    1.791653    0.295959    63.655818\n",
              "min      1.000000    2.000000   18.700000  ...    0.400000    0.000000     0.000000\n",
              "25%      3.000000    4.000000   90.200000  ...    2.700000    0.000000     0.000000\n",
              "50%      4.000000    4.000000   91.600000  ...    4.000000    0.000000     0.520000\n",
              "75%      7.000000    5.000000   92.900000  ...    4.900000    0.000000     6.570000\n",
              "max      9.000000    9.000000   96.200000  ...    9.400000    6.400000  1090.840000\n",
              "\n",
              "[8 rows x 11 columns]"
            ]
          },
          "metadata": {
            "tags": []
          },
          "execution_count": 245
        }
      ]
    },
    {
      "cell_type": "code",
      "metadata": {
        "id": "Ue1a-OeiYzym",
        "outputId": "8b44b0ba-c489-4217-dc9e-43ee9fe279ae",
        "colab": {
          "base_uri": "https://localhost:8080/"
        }
      },
      "source": [
        "#  print the full summary\n",
        "df.info()"
      ],
      "execution_count": 246,
      "outputs": [
        {
          "output_type": "stream",
          "text": [
            "<class 'pandas.core.frame.DataFrame'>\n",
            "RangeIndex: 517 entries, 0 to 516\n",
            "Data columns (total 13 columns):\n",
            " #   Column  Non-Null Count  Dtype  \n",
            "---  ------  --------------  -----  \n",
            " 0   X       517 non-null    int64  \n",
            " 1   Y       517 non-null    int64  \n",
            " 2   month   517 non-null    object \n",
            " 3   day     517 non-null    object \n",
            " 4   FFMC    517 non-null    float64\n",
            " 5   DMC     517 non-null    float64\n",
            " 6   DC      517 non-null    float64\n",
            " 7   ISI     517 non-null    float64\n",
            " 8   temp    517 non-null    float64\n",
            " 9   RH      517 non-null    int64  \n",
            " 10  wind    517 non-null    float64\n",
            " 11  rain    517 non-null    float64\n",
            " 12  area    517 non-null    float64\n",
            "dtypes: float64(8), int64(3), object(2)\n",
            "memory usage: 52.6+ KB\n"
          ],
          "name": "stdout"
        }
      ]
    },
    {
      "cell_type": "markdown",
      "metadata": {
        "id": "IYSU-LTOAeiO"
      },
      "source": [
        "**Problem Statement :**\n",
        "- Create a simple linear regression model to understand the relationship between Area (the burned area of the forest) and the attribute Temp.\n",
        "- Plot the 2D data (scatter plot) along with the discovered model\n",
        "- Use the 80-20 holdout technique to test the validity of the model and report on the obtained R2 and MSE values\n",
        "\n"
      ]
    },
    {
      "cell_type": "code",
      "metadata": {
        "id": "iLbnpvTWFn5B"
      },
      "source": [
        "# importing simple linear regression \n",
        "from sklearn import linear_model\n",
        "lm = linear_model.LinearRegression()\n",
        "\n"
      ],
      "execution_count": 247,
      "outputs": []
    },
    {
      "cell_type": "code",
      "metadata": {
        "colab": {
          "base_uri": "https://localhost:8080/",
          "height": 551
        },
        "id": "38dYhlDjCYdr",
        "outputId": "6cde18ec-bd60-43ea-93ff-b3f58157ff55"
      },
      "source": [
        "# pre plotting \n",
        "# understanding distribution of values\n",
        "df.boxplot(column=['temp', 'area'])\n",
        "sbn.pairplot(df, x_vars=['temp'], y_vars='area', height=4, aspect=1, kind='scatter')\n",
        "plt.show()"
      ],
      "execution_count": 248,
      "outputs": [
        {
          "output_type": "display_data",
          "data": {
            "image/png": "[encoded data removed]",
            "text/plain": [
              "<Figure size 432x288 with 1 Axes>"
            ]
          },
          "metadata": {
            "tags": [],
            "needs_background": "light"
          }
        },
        {
          "output_type": "display_data",
          "data": {
            "image/png": "[encoded data removed]",
            "text/plain": [
              "<Figure size 288x288 with 1 Axes>"
            ]
          },
          "metadata": {
            "tags": [],
            "needs_background": "light"
          }
        }
      ]
    },
    {
      "cell_type": "code",
      "metadata": {
        "id": "wIY0DrK9nKyv",
        "outputId": "754fd599-c8e7-4cee-865a-3e74873653b2",
        "colab": {
          "base_uri": "https://localhost:8080/"
        }
      },
      "source": [
        "#reshape an array by adding an extra dimension\n",
        "x = np.c_[df['temp']]\n",
        "y = np.c_[df['area']]\n",
        "\n",
        "# Fit the model using .fit() method\n",
        "lm.fit(x, y)\n",
        "\n",
        "# intercept and slope values\n",
        "t0, t1 = lm.intercept_[0], lm.coef_[0][0]\n",
        "t0, t1"
      ],
      "execution_count": 249,
      "outputs": [
        {
          "output_type": "execute_result",
          "data": {
            "text/plain": [
              "(-7.413751564770022, 1.072627621060047)"
            ]
          },
          "metadata": {
            "tags": []
          },
          "execution_count": 249
        }
      ]
    },
    {
      "cell_type": "markdown",
      "metadata": {
        "id": "AqwNszYBGoQT"
      },
      "source": [
        "**Linear Model**: Area = -7.413 + 1.072 * temp\n",
        "\n",
        "\n"
      ]
    },
    {
      "cell_type": "code",
      "metadata": {
        "colab": {
          "base_uri": "https://localhost:8080/",
          "height": 392
        },
        "id": "q27Lk4OpHBNV",
        "outputId": "f6b66ed9-6953-4cac-cc12-8ccb813d92c1"
      },
      "source": [
        "# plot the linear model\n",
        "df.plot(kind='scatter', x='temp', y='area', figsize=(8, 6))\n",
        "\n",
        "plt.axis([0, 40, 0, 1200])\n",
        "plt.plot(x, t0 + t1 * x, \"r\")\n",
        "plt.show()"
      ],
      "execution_count": 250,
      "outputs": [
        {
          "output_type": "display_data",
          "data": {
            "image/png": "[encoded data removed]",
            "text/plain": [
              "<Figure size 576x432 with 1 Axes>"
            ]
          },
          "metadata": {
            "tags": [],
            "needs_background": "light"
          }
        }
      ]
    },
    {
      "cell_type": "code",
      "metadata": {
        "id": "uMyua7HpHckI"
      },
      "source": [
        "# splitting the data into training and testing sets\n",
        "# random_state control the shuffling of input data\n",
        "\n",
        "from sklearn.model_selection import train_test_split\n",
        "x_train, x_test, y_train, y_test = train_test_split(x, y, train_size = 0.8, \n",
        "                                                          test_size = 0.2, \n",
        "                                                          random_state = 100)"
      ],
      "execution_count": 251,
      "outputs": []
    },
    {
      "cell_type": "code",
      "metadata": {
        "colab": {
          "base_uri": "https://localhost:8080/"
        },
        "id": "M7YtsOZFH361",
        "outputId": "bf565083-59d1-45bf-d727-3639022af062"
      },
      "source": [
        "# 80% of 516 cases are used for training now\n",
        "x_train.shape"
      ],
      "execution_count": 252,
      "outputs": [
        {
          "output_type": "execute_result",
          "data": {
            "text/plain": [
              "(413, 1)"
            ]
          },
          "metadata": {
            "tags": []
          },
          "execution_count": 252
        }
      ]
    },
    {
      "cell_type": "code",
      "metadata": {
        "colab": {
          "base_uri": "https://localhost:8080/"
        },
        "id": "BRnqxhZpH5jT",
        "outputId": "4092e2b5-94ae-4cf0-a935-63e338fa15bf"
      },
      "source": [
        "# 20% of 516 cases are set aside for testing\n",
        "x_test.shape"
      ],
      "execution_count": 253,
      "outputs": [
        {
          "output_type": "execute_result",
          "data": {
            "text/plain": [
              "(104, 1)"
            ]
          },
          "metadata": {
            "tags": []
          },
          "execution_count": 253
        }
      ]
    },
    {
      "cell_type": "code",
      "metadata": {
        "colab": {
          "base_uri": "https://localhost:8080/"
        },
        "id": "5TXN14KxH-Qo",
        "outputId": "f70851ca-89c2-4409-8223-aadb8f57f3fd"
      },
      "source": [
        "# Fit the model using .fit() method\n",
        "lm.fit(x_train, y_train)\n",
        "print(\"Intercept :\",lm.intercept_)\n",
        "print('Slope :',lm.coef_)\n"
      ],
      "execution_count": 254,
      "outputs": [
        {
          "output_type": "stream",
          "text": [
            "Intercept : [-12.01798625]\n",
            "Slope : [[1.36887159]]\n"
          ],
          "name": "stdout"
        }
      ]
    },
    {
      "cell_type": "code",
      "metadata": {
        "colab": {
          "base_uri": "https://localhost:8080/"
        },
        "id": "jeP8HWZhIaaT",
        "outputId": "b4bff4bd-aa53-4485-8e2f-cc04064d3266"
      },
      "source": [
        "#  evaluate the model using the R² and MSE values\n",
        "\n",
        "from sklearn.metrics import r2_score, mean_squared_error\n",
        "\n",
        "# train the model using the training set\n",
        "y_train_pred = lm.predict(x_train)\n",
        "\n",
        "# make predictions using the testing set\n",
        "y_test_pred = lm.predict(x_test)\n",
        "\n",
        "\n",
        "print('R2 score:',            r2_score(y_test, y_test_pred))\n",
        "print('Mean squared error:', mean_squared_error(y_test, y_test_pred))"
      ],
      "execution_count": 255,
      "outputs": [
        {
          "output_type": "stream",
          "text": [
            "R2 score: -0.11059902589371906\n",
            "Mean squared error: 938.272869872064\n"
          ],
          "name": "stdout"
        }
      ]
    },
    {
      "cell_type": "markdown",
      "metadata": {
        "id": "5o8HesgTJeUm"
      },
      "source": [
        "**Problem Statement :**\n",
        "\n",
        "- Create a simple linear regression model to understand the relationship between Area (the burned area of the forest) and the attribute Wind.\n",
        "- Plot the 2D data (scatter plot) along with the discovered model\n",
        "- Use the 80-20 holdout technique to test the validity of the model and report on the obtained R2 and MSE values"
      ]
    },
    {
      "cell_type": "code",
      "metadata": {
        "colab": {
          "base_uri": "https://localhost:8080/",
          "height": 551
        },
        "id": "dN30NLpFJikZ",
        "outputId": "7882d315-c373-4b97-d1b8-78ce6be16264"
      },
      "source": [
        "# pre plotting \n",
        "# understanding distribution of values\n",
        "\n",
        "df.boxplot(column=['wind', 'area'])\n",
        "sbn.pairplot(df, x_vars=['wind'], y_vars='area', height=4, aspect=1, kind='scatter')\n",
        "plt.show()"
      ],
      "execution_count": 256,
      "outputs": [
        {
          "output_type": "display_data",
          "data": {
            "image/png": "[encoded data removed]",
            "text/plain": [
              "<Figure size 432x288 with 1 Axes>"
            ]
          },
          "metadata": {
            "tags": [],
            "needs_background": "light"
          }
        },
        {
          "output_type": "display_data",
          "data": {
            "image/png": "[encoded data removed]",
            "text/plain": [
              "<Figure size 288x288 with 1 Axes>"
            ]
          },
          "metadata": {
            "tags": [],
            "needs_background": "light"
          }
        }
      ]
    },
    {
      "cell_type": "code",
      "metadata": {
        "colab": {
          "base_uri": "https://localhost:8080/"
        },
        "id": "UYokrytKKCmT",
        "outputId": "fa41a6cb-fdfd-4835-9360-990bdc2ae5a2"
      },
      "source": [
        "#reshape an array by adding an extra dimension\n",
        "x = np.c_[df['wind']]\n",
        "y = np.c_[df['area']]\n",
        "\n",
        "# Fit the model using .fit() method\n",
        "lm.fit(x, y)\n",
        "\n",
        "# intercept and slope values\n",
        "t0, t1 = lm.intercept_[0], lm.coef_[0][0]\n",
        "t0, t1\n"
      ],
      "execution_count": 257,
      "outputs": [
        {
          "output_type": "execute_result",
          "data": {
            "text/plain": [
              "(11.089101812334118, 0.43762185885285254)"
            ]
          },
          "metadata": {
            "tags": []
          },
          "execution_count": 257
        }
      ]
    },
    {
      "cell_type": "markdown",
      "metadata": {
        "id": "lyzJl3J7KLPi"
      },
      "source": [
        "**Linear Model :** Area = 11.089 + 0.437 * wind"
      ]
    },
    {
      "cell_type": "code",
      "metadata": {
        "colab": {
          "base_uri": "https://localhost:8080/",
          "height": 392
        },
        "id": "saew2IruKcs_",
        "outputId": "f4aa47fd-3ccb-4ac4-bdec-4adeadcb765b"
      },
      "source": [
        "# plot the linear model\n",
        "df.plot(kind='scatter', x='wind', y='area', figsize=(8, 6))\n",
        "\n",
        "plt.axis([0, 10, 0, 1200])\n",
        "\n",
        "plt.plot(x, t0 + t1*x, \"r\")\n",
        "\n",
        "plt.show()"
      ],
      "execution_count": 258,
      "outputs": [
        {
          "output_type": "display_data",
          "data": {
            "image/png": "[encoded data removed]",
            "text/plain": [
              "<Figure size 576x432 with 1 Axes>"
            ]
          },
          "metadata": {
            "tags": [],
            "needs_background": "light"
          }
        }
      ]
    },
    {
      "cell_type": "code",
      "metadata": {
        "id": "szw8V8qEK-tQ"
      },
      "source": [
        "# splitting the data into training and testing sets\n",
        "# random_state control the shuffling of input data\n",
        "\n",
        "from sklearn.model_selection import train_test_split\n",
        "x_train, x_test, y_train, y_test = train_test_split(x, y, train_size = 0.8, \n",
        "                                                          test_size = 0.2, \n",
        "                                                          random_state = 100)"
      ],
      "execution_count": 259,
      "outputs": []
    },
    {
      "cell_type": "code",
      "metadata": {
        "colab": {
          "base_uri": "https://localhost:8080/"
        },
        "id": "6HZ7R4YkLYRz",
        "outputId": "843236c8-73b9-45b4-ca89-e172bb21235b"
      },
      "source": [
        "# 80% of 516 cases are used for training now\n",
        "x_train.shape"
      ],
      "execution_count": 260,
      "outputs": [
        {
          "output_type": "execute_result",
          "data": {
            "text/plain": [
              "(413, 1)"
            ]
          },
          "metadata": {
            "tags": []
          },
          "execution_count": 260
        }
      ]
    },
    {
      "cell_type": "code",
      "metadata": {
        "colab": {
          "base_uri": "https://localhost:8080/"
        },
        "id": "aLjZU1SVLZm8",
        "outputId": "719300f9-6d29-434a-d99d-9703b16134b2"
      },
      "source": [
        "# 20% of 516 cases are set aside for testing\n",
        "x_test.shape"
      ],
      "execution_count": 261,
      "outputs": [
        {
          "output_type": "execute_result",
          "data": {
            "text/plain": [
              "(104, 1)"
            ]
          },
          "metadata": {
            "tags": []
          },
          "execution_count": 261
        }
      ]
    },
    {
      "cell_type": "code",
      "metadata": {
        "colab": {
          "base_uri": "https://localhost:8080/"
        },
        "id": "isbTj65TLeIG",
        "outputId": "4d83dccb-bd60-46bd-d9d0-846eaea1f599"
      },
      "source": [
        "# Fit the model using .fit() method\n",
        "lm.fit(x_train, y_train)\n",
        "print(\"Intercept :\",lm.intercept_)\n",
        "print('Slope :',lm.coef_)"
      ],
      "execution_count": 262,
      "outputs": [
        {
          "output_type": "stream",
          "text": [
            "Intercept : [11.94571583]\n",
            "Slope : [[0.44053305]]\n"
          ],
          "name": "stdout"
        }
      ]
    },
    {
      "cell_type": "code",
      "metadata": {
        "colab": {
          "base_uri": "https://localhost:8080/"
        },
        "id": "D369n1ohL9_3",
        "outputId": "40bd857c-fee8-4027-eb17-319a475653d3"
      },
      "source": [
        "#  evaluate the model using the R² and MSE values\n",
        "\n",
        "from sklearn.metrics import r2_score, mean_squared_error\n",
        "\n",
        "# train the model using the training set\n",
        "y_train_pred = lm.predict(x_train)\n",
        "\n",
        "# make predictions using the testing set\n",
        "y_test_pred = lm.predict(x_test)\n",
        "\n",
        "\n",
        "print('R2 score:',            r2_score(y_test, y_test_pred))\n",
        "print('Mean squared error:', mean_squared_error(y_test, y_test_pred))"
      ],
      "execution_count": 263,
      "outputs": [
        {
          "output_type": "stream",
          "text": [
            "R2 score: -0.021974822191322962\n",
            "Mean squared error: 863.4000453789413\n"
          ],
          "name": "stdout"
        }
      ]
    },
    {
      "cell_type": "markdown",
      "metadata": {
        "id": "u0H8riMkMEy2"
      },
      "source": [
        "**Problem Statement :**\n",
        "\n",
        "- Create a simple linear regression model to understand the relationship between Area (the burned area of the forest) and the attribute RH.\n",
        "- Plot the 2D data (scatter plot) along with the discovered model\n",
        "- Use the 80-20 holdout technique to test the validity of the model and report on the obtained R2 and MSE values\n"
      ]
    },
    {
      "cell_type": "code",
      "metadata": {
        "colab": {
          "base_uri": "https://localhost:8080/",
          "height": 551
        },
        "id": "Oh4gFN9TMMt3",
        "outputId": "a0751a47-8550-45a4-fea0-afe417ca3044"
      },
      "source": [
        "# pre plotting \n",
        "# understanding distribution of values\n",
        "df.boxplot(column=['RH', 'area'])\n",
        "sbn.pairplot(df, x_vars=['RH'], y_vars='area', height=4, aspect=1, kind='scatter')\n",
        "plt.show()"
      ],
      "execution_count": 264,
      "outputs": [
        {
          "output_type": "display_data",
          "data": {
            "image/png": "[encoded data removed]",
            "text/plain": [
              "<Figure size 432x288 with 1 Axes>"
            ]
          },
          "metadata": {
            "tags": [],
            "needs_background": "light"
          }
        },
        {
          "output_type": "display_data",
          "data": {
            "image/png": "[encoded data removed]",
            "text/plain": [
              "<Figure size 288x288 with 1 Axes>"
            ]
          },
          "metadata": {
            "tags": [],
            "needs_background": "light"
          }
        }
      ]
    },
    {
      "cell_type": "code",
      "metadata": {
        "colab": {
          "base_uri": "https://localhost:8080/"
        },
        "id": "gPh3zrt0Mi-5",
        "outputId": "ff917db1-ae99-4fa1-c47b-94d3c8919cac"
      },
      "source": [
        "#reshape an array by adding an extra dimension\n",
        "x = np.c_[df['RH']]\n",
        "y = np.c_[df['area']]\n",
        "\n",
        "# Fit the model using .fit() method\n",
        "lm.fit(x, y)\n",
        "\n",
        "# intercept and slope values\n",
        "t0, t1 = lm.intercept_[0], lm.coef_[0][0]\n",
        "t0, t1\n"
      ],
      "execution_count": 265,
      "outputs": [
        {
          "output_type": "execute_result",
          "data": {
            "text/plain": [
              "(25.894784845023256, -0.2946042610331932)"
            ]
          },
          "metadata": {
            "tags": []
          },
          "execution_count": 265
        }
      ]
    },
    {
      "cell_type": "markdown",
      "metadata": {
        "id": "c5fz3YBMMuBH"
      },
      "source": [
        "**Linear Model:** Area = 25.894 - 0.29 * RH"
      ]
    },
    {
      "cell_type": "code",
      "metadata": {
        "colab": {
          "base_uri": "https://localhost:8080/",
          "height": 392
        },
        "id": "m1-wzBViM2JI",
        "outputId": "af180ca3-b2b8-4130-8b8e-f9cf32ea6569"
      },
      "source": [
        "# plot the linear model\n",
        "df.plot(kind='scatter', x='RH', y='area', figsize=(8, 6))\n",
        "\n",
        "plt.axis([0, 110, 0, 1200])\n",
        "\n",
        "plt.plot(x, t0 + t1*x, \"r\")\n",
        "\n",
        "plt.show()"
      ],
      "execution_count": 266,
      "outputs": [
        {
          "output_type": "display_data",
          "data": {
            "image/png": "[encoded data removed]",
            "text/plain": [
              "<Figure size 576x432 with 1 Axes>"
            ]
          },
          "metadata": {
            "tags": [],
            "needs_background": "light"
          }
        }
      ]
    },
    {
      "cell_type": "code",
      "metadata": {
        "id": "SUOIs8ypN8UO"
      },
      "source": [
        "# splitting the data into training and testing sets\n",
        "# random_state control the shuffling of input data\n",
        "\n",
        "from sklearn.model_selection import train_test_split\n",
        "x_train, x_test, y_train, y_test = train_test_split(x, y, train_size = 0.8, \n",
        "                                                          test_size = 0.2, \n",
        "                                                          random_state = 100)"
      ],
      "execution_count": 267,
      "outputs": []
    },
    {
      "cell_type": "code",
      "metadata": {
        "colab": {
          "base_uri": "https://localhost:8080/"
        },
        "id": "NqdcUVYsODvc",
        "outputId": "0a857d2e-7242-489f-e966-6dff6dcc5237"
      },
      "source": [
        "# 80% of 516 cases are used for training now\n",
        "x_train.shape"
      ],
      "execution_count": 268,
      "outputs": [
        {
          "output_type": "execute_result",
          "data": {
            "text/plain": [
              "(413, 1)"
            ]
          },
          "metadata": {
            "tags": []
          },
          "execution_count": 268
        }
      ]
    },
    {
      "cell_type": "code",
      "metadata": {
        "colab": {
          "base_uri": "https://localhost:8080/"
        },
        "id": "Z7226a-nOEyq",
        "outputId": "4a7e9794-8882-415f-ba22-e02b555296a1"
      },
      "source": [
        "# 20% of 516 cases are set aside for testing\n",
        "x_test.shape"
      ],
      "execution_count": 269,
      "outputs": [
        {
          "output_type": "execute_result",
          "data": {
            "text/plain": [
              "(104, 1)"
            ]
          },
          "metadata": {
            "tags": []
          },
          "execution_count": 269
        }
      ]
    },
    {
      "cell_type": "code",
      "metadata": {
        "colab": {
          "base_uri": "https://localhost:8080/"
        },
        "id": "-j6jq0UOOLw3",
        "outputId": "e6205155-3229-4ee2-d375-8cadf99255c9"
      },
      "source": [
        "# Fit the model using .fit() method\n",
        "lm.fit(x_train, y_train)\n",
        "print(\"Intercept :\",lm.intercept_)\n",
        "print('Slope :',lm.coef_)"
      ],
      "execution_count": 270,
      "outputs": [
        {
          "output_type": "stream",
          "text": [
            "Intercept : [29.37563009]\n",
            "Slope : [[-0.35699106]]\n"
          ],
          "name": "stdout"
        }
      ]
    },
    {
      "cell_type": "code",
      "metadata": {
        "colab": {
          "base_uri": "https://localhost:8080/"
        },
        "id": "1sOtYWhmOg30",
        "outputId": "ab171a56-f127-4f63-dbfa-8e0380dc59d2"
      },
      "source": [
        "#  evaluate the model using the R² and MSE values\n",
        "\n",
        "from sklearn.metrics import r2_score, mean_squared_error\n",
        "\n",
        "# train the model using the training set\n",
        "y_train_pred = lm.predict(x_train)\n",
        "\n",
        "# make predictions using the testing set\n",
        "y_test_pred = lm.predict(x_test)\n",
        "\n",
        "\n",
        "print('R2 score:',            r2_score(y_test, y_test_pred))\n",
        "print('Mean squared error:', mean_squared_error(y_test, y_test_pred))"
      ],
      "execution_count": 271,
      "outputs": [
        {
          "output_type": "stream",
          "text": [
            "R2 score: -0.04845187467769896\n",
            "Mean squared error: 885.7687846295037\n"
          ],
          "name": "stdout"
        }
      ]
    },
    {
      "cell_type": "markdown",
      "metadata": {
        "id": "Ch6QHp7645rW"
      },
      "source": [
        "**Problem Statement :**\n",
        "\n",
        "- Create a simple linear regression model to understand the relationship between Area (the burned area of the forest) and the attribute Rain.\n",
        "- Plot the 2D data (scatter plot) along with the discovered model\n",
        "- Use the 80-20 holdout technique to test the validity of the model and report on the obtained R2 and MSE values"
      ]
    },
    {
      "cell_type": "code",
      "metadata": {
        "id": "ykFt03yk44Jr",
        "outputId": "814f0d60-787d-44d5-ca4e-9c67e8800806",
        "colab": {
          "base_uri": "https://localhost:8080/",
          "height": 551
        }
      },
      "source": [
        "# pre plotting \n",
        "# understanding distribution of values\n",
        "df.boxplot(column=['rain', 'area'])\n",
        "sbn.pairplot(df, x_vars=['rain'], y_vars='area', height=4, aspect=1, kind='scatter')\n",
        "plt.show()"
      ],
      "execution_count": 272,
      "outputs": [
        {
          "output_type": "display_data",
          "data": {
            "image/png": "[encoded data removed]",
            "text/plain": [
              "<Figure size 432x288 with 1 Axes>"
            ]
          },
          "metadata": {
            "tags": [],
            "needs_background": "light"
          }
        },
        {
          "output_type": "display_data",
          "data": {
            "image/png": "[encoded data removed]",
            "text/plain": [
              "<Figure size 288x288 with 1 Axes>"
            ]
          },
          "metadata": {
            "tags": [],
            "needs_background": "light"
          }
        }
      ]
    },
    {
      "cell_type": "code",
      "metadata": {
        "id": "QbQ2Bm3W44ik",
        "outputId": "cc0d2c9a-2871-48a7-f215-849b37d1a1ee",
        "colab": {
          "base_uri": "https://localhost:8080/"
        }
      },
      "source": [
        "#reshape an array by adding an extra dimension\n",
        "x = np.c_[df['rain']]\n",
        "y = np.c_[df['area']]\n",
        "\n",
        "# Fit the model using .fit() method\n",
        "lm.fit(x, y)\n",
        "\n",
        "# intercept and slope values\n",
        "t0, t1 = lm.intercept_[0], lm.coef_[0][0]\n",
        "t0, t1"
      ],
      "execution_count": 273,
      "outputs": [
        {
          "output_type": "execute_result",
          "data": {
            "text/plain": [
              "(12.881612253841306, -1.5842442174960942)"
            ]
          },
          "metadata": {
            "tags": []
          },
          "execution_count": 273
        }
      ]
    },
    {
      "cell_type": "markdown",
      "metadata": {
        "id": "EG9UwW045c_s"
      },
      "source": [
        "**Linear Model:** Area = 12.882 - 1.584 * rain"
      ]
    },
    {
      "cell_type": "code",
      "metadata": {
        "id": "iPwVqYLV44r0",
        "outputId": "b7c14378-0b40-4aa5-89b2-6125c5f7ada1",
        "colab": {
          "base_uri": "https://localhost:8080/",
          "height": 392
        }
      },
      "source": [
        "# plot the  linear model\n",
        "df.plot(kind='scatter', x='rain', y='area', figsize=(8, 6))\n",
        "\n",
        "plt.axis([0, 10, 0, 1200])\n",
        "\n",
        "plt.plot(x, t0 + t1*x, \"r\")\n",
        "\n",
        "plt.show()"
      ],
      "execution_count": 274,
      "outputs": [
        {
          "output_type": "display_data",
          "data": {
            "image/png": "[encoded data removed]",
            "text/plain": [
              "<Figure size 576x432 with 1 Axes>"
            ]
          },
          "metadata": {
            "tags": [],
            "needs_background": "light"
          }
        }
      ]
    },
    {
      "cell_type": "code",
      "metadata": {
        "id": "b9J2Y3D_6PIU"
      },
      "source": [
        "# splitting the data into training and testing sets\n",
        "# random_state control the shuffling of input data\n",
        "\n",
        "from sklearn.model_selection import train_test_split\n",
        "x_train, x_test, y_train, y_test = train_test_split(x, y, train_size = 0.8, \n",
        "                                                          test_size = 0.2, \n",
        "                                                          random_state = 100)"
      ],
      "execution_count": 275,
      "outputs": []
    },
    {
      "cell_type": "code",
      "metadata": {
        "id": "HCyDfATX6QsV",
        "outputId": "b5e6edff-02b8-4a6d-f1d2-81023cab527c",
        "colab": {
          "base_uri": "https://localhost:8080/"
        }
      },
      "source": [
        "# 80% of 516 cases are used for training now\n",
        "x_train.shape"
      ],
      "execution_count": 276,
      "outputs": [
        {
          "output_type": "execute_result",
          "data": {
            "text/plain": [
              "(413, 1)"
            ]
          },
          "metadata": {
            "tags": []
          },
          "execution_count": 276
        }
      ]
    },
    {
      "cell_type": "code",
      "metadata": {
        "id": "nPLh9nfy6Tc8",
        "outputId": "0e69fa8e-4eac-4e57-d1f8-d24ff9749e75",
        "colab": {
          "base_uri": "https://localhost:8080/"
        }
      },
      "source": [
        "# 20% of 516 cases are set aside for testing\n",
        "x_test.shape\n"
      ],
      "execution_count": 277,
      "outputs": [
        {
          "output_type": "execute_result",
          "data": {
            "text/plain": [
              "(104, 1)"
            ]
          },
          "metadata": {
            "tags": []
          },
          "execution_count": 277
        }
      ]
    },
    {
      "cell_type": "code",
      "metadata": {
        "id": "RgUsmpKC6Zdm",
        "outputId": "7682fb91-f1bf-4e0f-9f1a-d3fb417b80f1",
        "colab": {
          "base_uri": "https://localhost:8080/"
        }
      },
      "source": [
        "# Fit the model using .fit() method\n",
        "lm.fit(x_train, y_train)\n",
        "print(\"Intercept :\",lm.intercept_)\n",
        "print('Slope :',lm.coef_)"
      ],
      "execution_count": 278,
      "outputs": [
        {
          "output_type": "stream",
          "text": [
            "Intercept : [13.77120025]\n",
            "Slope : [[-1.62884002]]\n"
          ],
          "name": "stdout"
        }
      ]
    },
    {
      "cell_type": "code",
      "metadata": {
        "id": "6ZvYxE2n6Z8L",
        "outputId": "5a3b6611-c075-43ee-a68d-7c6f61c66317",
        "colab": {
          "base_uri": "https://localhost:8080/"
        }
      },
      "source": [
        "#  evaluate the model using the R² and MSE values\n",
        "\n",
        "from sklearn.metrics import r2_score, mean_squared_error\n",
        "\n",
        "# train the model using the training set\n",
        "y_train_pred = lm.predict(x_train)\n",
        "\n",
        "# make predictions using the testing set\n",
        "y_test_pred = lm.predict(x_test)\n",
        "\n",
        "\n",
        "print('R2 score:',            r2_score(y_test, y_test_pred))\n",
        "print('Mean squared error:', mean_squared_error(y_test, y_test_pred))"
      ],
      "execution_count": 279,
      "outputs": [
        {
          "output_type": "stream",
          "text": [
            "R2 score: -0.02289617576001013\n",
            "Mean squared error: 864.1784370728861\n"
          ],
          "name": "stdout"
        }
      ]
    },
    {
      "cell_type": "markdown",
      "metadata": {
        "id": "WOzK5hTe4ON-"
      },
      "source": [
        "Tabulate results obtained by comparing regression accuracies of the four models \n",
        "\n",
        "         "
      ]
    },
    {
      "cell_type": "markdown",
      "metadata": {
        "id": "Xw1Iviy84z8P"
      },
      "source": [
        "![image.png](data:image/png;base64,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)"
      ]
    },
    {
      "cell_type": "markdown",
      "metadata": {
        "id": "wTeB-jQA5FK2"
      },
      "source": [
        "Looking at the above table we infer that Wind and Rain provide almost similar accuracy for predicting the area burned in fire which is better than RH and Temp. Temp provides the least accurate way of predicting burned area ."
      ]
    }
  ]
}